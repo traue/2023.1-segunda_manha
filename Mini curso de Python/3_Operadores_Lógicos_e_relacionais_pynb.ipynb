{
  "nbformat": 4,
  "nbformat_minor": 0,
  "metadata": {
    "colab": {
      "provenance": []
    },
    "kernelspec": {
      "name": "python3",
      "display_name": "Python 3"
    },
    "language_info": {
      "name": "python"
    }
  },
  "cells": [
    {
      "cell_type": "markdown",
      "source": [
        "# Operadores lógicos e racionais"
      ],
      "metadata": {
        "id": "jCJr6vd1Pfg3"
      }
    },
    {
      "cell_type": "markdown",
      "source": [
        "## Operadores lógicos"
      ],
      "metadata": {
        "id": "Mww4qP0aPisA"
      }
    },
    {
      "cell_type": "markdown",
      "source": [
        "![image.png](data:image/png;base64,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)"
      ],
      "metadata": {
        "id": "_bnoP5BwRoxO"
      }
    },
    {
      "cell_type": "code",
      "source": [
        "a = True\n",
        "b = False"
      ],
      "metadata": {
        "id": "iAvjO2NpRzYq"
      },
      "execution_count": 36,
      "outputs": []
    },
    {
      "cell_type": "code",
      "source": [
        "print(a, b)"
      ],
      "metadata": {
        "colab": {
          "base_uri": "https://localhost:8080/"
        },
        "id": "qMIab_ysR3hP",
        "outputId": "ac2a0a5c-e6d0-4177-da4e-64868197c295"
      },
      "execution_count": 37,
      "outputs": [
        {
          "output_type": "stream",
          "name": "stdout",
          "text": [
            "True False\n"
          ]
        }
      ]
    },
    {
      "cell_type": "code",
      "source": [
        "print(a and b)\n",
        "print(a or b)"
      ],
      "metadata": {
        "colab": {
          "base_uri": "https://localhost:8080/"
        },
        "id": "F-vv8aLgSFJ5",
        "outputId": "0cd939d2-1bf3-45da-b782-f8888c7ed969"
      },
      "execution_count": 38,
      "outputs": [
        {
          "output_type": "stream",
          "name": "stdout",
          "text": [
            "False\n",
            "True\n"
          ]
        }
      ]
    },
    {
      "cell_type": "code",
      "source": [
        "c = a and b\n",
        "print('\\'A\\' e \\'B\\' são Verdadeiros. Essa afirmação é: ', c)"
      ],
      "metadata": {
        "colab": {
          "base_uri": "https://localhost:8080/"
        },
        "id": "ZYQg1xiWSYaM",
        "outputId": "909e1c8f-c512-4372-80df-809668124e50"
      },
      "execution_count": 39,
      "outputs": [
        {
          "output_type": "stream",
          "name": "stdout",
          "text": [
            "'A' e 'B' são Verdadeiros. Essa afirmação é:  False\n"
          ]
        }
      ]
    },
    {
      "cell_type": "code",
      "source": [
        "a | b"
      ],
      "metadata": {
        "colab": {
          "base_uri": "https://localhost:8080/"
        },
        "id": "p0KUmfXgSqiW",
        "outputId": "2800eca8-1408-4e68-98d5-86e79f5e408b"
      },
      "execution_count": 40,
      "outputs": [
        {
          "output_type": "execute_result",
          "data": {
            "text/plain": [
              "True"
            ]
          },
          "metadata": {},
          "execution_count": 40
        }
      ]
    },
    {
      "cell_type": "code",
      "source": [
        "a & b"
      ],
      "metadata": {
        "colab": {
          "base_uri": "https://localhost:8080/"
        },
        "id": "mb1uJaOqSvwc",
        "outputId": "df72dd03-0c7e-43de-8962-14c4f6194c6a"
      },
      "execution_count": 41,
      "outputs": [
        {
          "output_type": "execute_result",
          "data": {
            "text/plain": [
              "False"
            ]
          },
          "metadata": {},
          "execution_count": 41
        }
      ]
    },
    {
      "cell_type": "code",
      "source": [
        "not a"
      ],
      "metadata": {
        "colab": {
          "base_uri": "https://localhost:8080/"
        },
        "id": "ko8XIUyIS2Gd",
        "outputId": "9188a898-32ed-40c9-d08b-1df9dc8ed191"
      },
      "execution_count": 42,
      "outputs": [
        {
          "output_type": "execute_result",
          "data": {
            "text/plain": [
              "False"
            ]
          },
          "metadata": {},
          "execution_count": 42
        }
      ]
    },
    {
      "cell_type": "code",
      "source": [
        "a ^ b # xor (ou exclusivo)"
      ],
      "metadata": {
        "colab": {
          "base_uri": "https://localhost:8080/"
        },
        "id": "7vauSktFS_gB",
        "outputId": "e9698321-e448-45b0-871c-b9cbe34b3623"
      },
      "execution_count": 43,
      "outputs": [
        {
          "output_type": "execute_result",
          "data": {
            "text/plain": [
              "True"
            ]
          },
          "metadata": {},
          "execution_count": 43
        }
      ]
    },
    {
      "cell_type": "markdown",
      "source": [
        "## Operadores relacionais"
      ],
      "metadata": {
        "id": "cg8UXBbcPk4V"
      }
    },
    {
      "cell_type": "code",
      "source": [
        "5 > 3 # maior"
      ],
      "metadata": {
        "colab": {
          "base_uri": "https://localhost:8080/"
        },
        "id": "QrofN9U4TcLs",
        "outputId": "da8904b3-f3f3-4c43-9172-5b9ff012801e"
      },
      "execution_count": 44,
      "outputs": [
        {
          "output_type": "execute_result",
          "data": {
            "text/plain": [
              "True"
            ]
          },
          "metadata": {},
          "execution_count": 44
        }
      ]
    },
    {
      "cell_type": "code",
      "source": [
        "5 < 3 # menor"
      ],
      "metadata": {
        "colab": {
          "base_uri": "https://localhost:8080/"
        },
        "id": "oLty3jRgTjF4",
        "outputId": "94d9d6a4-65ec-43ec-c251-483a2633aadd"
      },
      "execution_count": 45,
      "outputs": [
        {
          "output_type": "execute_result",
          "data": {
            "text/plain": [
              "False"
            ]
          },
          "metadata": {},
          "execution_count": 45
        }
      ]
    },
    {
      "cell_type": "code",
      "source": [
        "5 > 5 # maior"
      ],
      "metadata": {
        "colab": {
          "base_uri": "https://localhost:8080/"
        },
        "id": "ORDQvWSsTwd7",
        "outputId": "0c3d94b4-eb7a-4aa0-c088-1f46793e898a"
      },
      "execution_count": 46,
      "outputs": [
        {
          "output_type": "execute_result",
          "data": {
            "text/plain": [
              "False"
            ]
          },
          "metadata": {},
          "execution_count": 46
        }
      ]
    },
    {
      "cell_type": "code",
      "source": [
        "5 >= 5 # maior ou igual"
      ],
      "metadata": {
        "colab": {
          "base_uri": "https://localhost:8080/"
        },
        "id": "WfLyQV_JTx_j",
        "outputId": "2057d37d-857d-492a-d635-b3b9b678bfd2"
      },
      "execution_count": 47,
      "outputs": [
        {
          "output_type": "execute_result",
          "data": {
            "text/plain": [
              "True"
            ]
          },
          "metadata": {},
          "execution_count": 47
        }
      ]
    },
    {
      "cell_type": "code",
      "source": [
        "5 <= 5 #menor ou igual"
      ],
      "metadata": {
        "colab": {
          "base_uri": "https://localhost:8080/"
        },
        "id": "UYEXIoUmT5MN",
        "outputId": "85897bc0-60e4-496a-fe48-b488cb63cf6d"
      },
      "execution_count": 48,
      "outputs": [
        {
          "output_type": "execute_result",
          "data": {
            "text/plain": [
              "True"
            ]
          },
          "metadata": {},
          "execution_count": 48
        }
      ]
    },
    {
      "cell_type": "code",
      "source": [
        "5 == 5 #exatamente igual"
      ],
      "metadata": {
        "colab": {
          "base_uri": "https://localhost:8080/"
        },
        "id": "g_kYS9z2T8Ta",
        "outputId": "07d00c77-595d-45d1-9aa7-4aba49dcf644"
      },
      "execution_count": 49,
      "outputs": [
        {
          "output_type": "execute_result",
          "data": {
            "text/plain": [
              "True"
            ]
          },
          "metadata": {},
          "execution_count": 49
        }
      ]
    },
    {
      "cell_type": "code",
      "source": [
        "5 == 7 "
      ],
      "metadata": {
        "colab": {
          "base_uri": "https://localhost:8080/"
        },
        "id": "cWdb2hm6UGNi",
        "outputId": "c8f7fb6c-cd97-4b29-95d7-7b1d629ab7e9"
      },
      "execution_count": 50,
      "outputs": [
        {
          "output_type": "execute_result",
          "data": {
            "text/plain": [
              "False"
            ]
          },
          "metadata": {},
          "execution_count": 50
        }
      ]
    },
    {
      "cell_type": "code",
      "source": [
        "5 != 5 # diferente"
      ],
      "metadata": {
        "colab": {
          "base_uri": "https://localhost:8080/"
        },
        "id": "Ijp3VchlUTJJ",
        "outputId": "24b8c2e6-7abb-43fa-ce68-7eadf7661172"
      },
      "execution_count": 51,
      "outputs": [
        {
          "output_type": "execute_result",
          "data": {
            "text/plain": [
              "False"
            ]
          },
          "metadata": {},
          "execution_count": 51
        }
      ]
    },
    {
      "cell_type": "code",
      "source": [
        "5 != 7"
      ],
      "metadata": {
        "colab": {
          "base_uri": "https://localhost:8080/"
        },
        "id": "W7OwdcKJUVkX",
        "outputId": "268d2a84-5b4e-49be-e457-c08e2160d198"
      },
      "execution_count": 52,
      "outputs": [
        {
          "output_type": "execute_result",
          "data": {
            "text/plain": [
              "True"
            ]
          },
          "metadata": {},
          "execution_count": 52
        }
      ]
    }
  ]
}