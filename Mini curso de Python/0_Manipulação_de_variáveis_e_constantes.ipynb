{
  "nbformat": 4,
  "nbformat_minor": 0,
  "metadata": {
    "colab": {
      "provenance": []
    },
    "kernelspec": {
      "name": "python3",
      "display_name": "Python 3"
    },
    "language_info": {
      "name": "python"
    }
  },
  "cells": [
    {
      "cell_type": "markdown",
      "source": [
        "# Manipulação de variáveis e constantes\n"
      ],
      "metadata": {
        "id": "yjXara2rGGMF"
      }
    },
    {
      "cell_type": "markdown",
      "source": [
        "## Variáveis e constantes\n",
        "\n",
        "*   É por meio das variáveis que um algoritmo \"guarda\" dados de um determinado problema\n",
        "*   TODO dado que tem a possibilidade de ser alterado no decorrer do tempo (execução do problema) deverá ser tratado como uma VARIÁVEL\n",
        "*   Quando um dado NÃO TEM nenhuma probabilidade de variar no decorrer do tempo, deverá ser tratado como uma CONSTANTE\n",
        "\n",
        "## Tipos de variáveis\n",
        "\n",
        "*   Inteiros: valores positivos ou negativos, que não possuem parte fracionária. Exemplos: 1, 30, -2, 10, -50 etc; idade de uma pessoa; número de dependentes etc.\n",
        "*   Float (real): valores positivos ou negativos, que podem ter uma parte fracionária (também podem ser inteiros!). Exemplos: 1.83, 1.50, 5.30 etc; A altura de uma pessoa; O saldo em conta de alguém etc.\n",
        "*   Caracteres (char ou string): qualquer elemente presente no teclado. Exemplos: \"Sidney\", \"Nilson\", 'M', \"1.50\"\n",
        "*   Lógico (booleano): verddeiro ou falso. Exemplos: true, false, 1, 0\n",
        "\n",
        "\n",
        "\n"
      ],
      "metadata": {
        "id": "A79iRSUDGcU_"
      }
    },
    {
      "cell_type": "markdown",
      "source": [
        "## Variáveis Inteiras"
      ],
      "metadata": {
        "id": "G2YQrcfHJOM0"
      }
    },
    {
      "cell_type": "code",
      "source": [
        "numero = 5\n",
        "idade = 20\n",
        "numero_alunos = 56"
      ],
      "metadata": {
        "id": "3Lh-669UJhF_"
      },
      "execution_count": 1,
      "outputs": []
    },
    {
      "cell_type": "code",
      "source": [
        "idade"
      ],
      "metadata": {
        "colab": {
          "base_uri": "https://localhost:8080/"
        },
        "id": "Sjsz6yjIJ_s1",
        "outputId": "29d11b24-5e64-4738-9e11-00bc50bbad13"
      },
      "execution_count": 6,
      "outputs": [
        {
          "output_type": "execute_result",
          "data": {
            "text/plain": [
              "56"
            ]
          },
          "metadata": {},
          "execution_count": 6
        }
      ]
    },
    {
      "cell_type": "code",
      "source": [
        "numero_alunos"
      ],
      "metadata": {
        "colab": {
          "base_uri": "https://localhost:8080/"
        },
        "id": "a8bS_MTjKC4P",
        "outputId": "1726f81a-1fdc-4f28-d129-a4fd61556329"
      },
      "execution_count": 4,
      "outputs": [
        {
          "output_type": "execute_result",
          "data": {
            "text/plain": [
              "56"
            ]
          },
          "metadata": {},
          "execution_count": 4
        }
      ]
    },
    {
      "cell_type": "code",
      "source": [
        "print(numero)\n",
        "print(idade)\n",
        "print(numero_alunos)"
      ],
      "metadata": {
        "colab": {
          "base_uri": "https://localhost:8080/"
        },
        "id": "FYT7d7AVKL-_",
        "outputId": "ada6a067-4426-4fc9-bedc-e8ba094b806d"
      },
      "execution_count": 7,
      "outputs": [
        {
          "output_type": "stream",
          "name": "stdout",
          "text": [
            "5\n",
            "20\n",
            "56\n"
          ]
        }
      ]
    },
    {
      "cell_type": "code",
      "source": [
        "print(numero, idade, numero_alunos)"
      ],
      "metadata": {
        "colab": {
          "base_uri": "https://localhost:8080/"
        },
        "id": "ou_BvohTKfOh",
        "outputId": "85751ba3-6573-4ef1-82ef-da7050ba5673"
      },
      "execution_count": 8,
      "outputs": [
        {
          "output_type": "stream",
          "name": "stdout",
          "text": [
            "5 20 56\n"
          ]
        }
      ]
    },
    {
      "cell_type": "code",
      "source": [
        "idade = 21"
      ],
      "metadata": {
        "id": "w7Zt5OwEKrAr"
      },
      "execution_count": 10,
      "outputs": []
    },
    {
      "cell_type": "code",
      "source": [
        "idade"
      ],
      "metadata": {
        "colab": {
          "base_uri": "https://localhost:8080/"
        },
        "id": "6imdbJMzKtMR",
        "outputId": "26d1ee66-ca96-4207-c067-ba2bed2244ea"
      },
      "execution_count": 11,
      "outputs": [
        {
          "output_type": "execute_result",
          "data": {
            "text/plain": [
              "21"
            ]
          },
          "metadata": {},
          "execution_count": 11
        }
      ]
    },
    {
      "cell_type": "markdown",
      "source": [
        "## Variáveis float (flutuantes)"
      ],
      "metadata": {
        "id": "mNsSH291K6Pc"
      }
    },
    {
      "cell_type": "code",
      "source": [
        "pi = 3.14\n",
        "escala_terremoto = 8.3"
      ],
      "metadata": {
        "id": "kjBeXkxCLIw3"
      },
      "execution_count": 13,
      "outputs": []
    },
    {
      "cell_type": "code",
      "source": [
        "pi"
      ],
      "metadata": {
        "colab": {
          "base_uri": "https://localhost:8080/"
        },
        "id": "9HNp1BNqLT_E",
        "outputId": "98cf3251-c285-423e-b9dd-187239bdcc2f"
      },
      "execution_count": 14,
      "outputs": [
        {
          "output_type": "execute_result",
          "data": {
            "text/plain": [
              "3.14"
            ]
          },
          "metadata": {},
          "execution_count": 14
        }
      ]
    },
    {
      "cell_type": "code",
      "source": [
        "print(pi, escala_terremoto)"
      ],
      "metadata": {
        "colab": {
          "base_uri": "https://localhost:8080/"
        },
        "id": "EQucg26-LXDc",
        "outputId": "f3cd5132-1f01-4968-bdc7-f1187fd99a8f"
      },
      "execution_count": 15,
      "outputs": [
        {
          "output_type": "stream",
          "name": "stdout",
          "text": [
            "3.14 8.3\n"
          ]
        }
      ]
    },
    {
      "cell_type": "code",
      "source": [
        "print(idade, escala_terremoto)"
      ],
      "metadata": {
        "colab": {
          "base_uri": "https://localhost:8080/"
        },
        "id": "6TGLeKU_Lbt3",
        "outputId": "19e03878-0e80-425c-8a5d-3b4f7dfc1b90"
      },
      "execution_count": 16,
      "outputs": [
        {
          "output_type": "stream",
          "name": "stdout",
          "text": [
            "21 8.3\n"
          ]
        }
      ]
    },
    {
      "cell_type": "markdown",
      "source": [
        "## Strings e chars"
      ],
      "metadata": {
        "id": "78Tj9vUnLloA"
      }
    },
    {
      "cell_type": "code",
      "source": [
        "letra = 'a'\n",
        "palavra1 = 'linguagem'\n",
        "palavra2 = 'Python'"
      ],
      "metadata": {
        "id": "iET5xnHGLsWd"
      },
      "execution_count": 19,
      "outputs": []
    },
    {
      "cell_type": "code",
      "source": [
        "print(letra, palavra1, palavra2)"
      ],
      "metadata": {
        "colab": {
          "base_uri": "https://localhost:8080/"
        },
        "id": "F6ISj2l6MRYw",
        "outputId": "b3de6cbe-e3d4-4293-e0ce-5b460e609fa8"
      },
      "execution_count": 20,
      "outputs": [
        {
          "output_type": "stream",
          "name": "stdout",
          "text": [
            "a linguagem Python\n"
          ]
        }
      ]
    },
    {
      "cell_type": "code",
      "source": [
        "print(letra, palavra1, palavra2, 'é muito legal!')"
      ],
      "metadata": {
        "colab": {
          "base_uri": "https://localhost:8080/"
        },
        "id": "0FRylJanMWic",
        "outputId": "228e4664-fed5-4f11-f09a-349701735937"
      },
      "execution_count": 22,
      "outputs": [
        {
          "output_type": "stream",
          "name": "stdout",
          "text": [
            "a linguagem Python é muito legal!\n"
          ]
        }
      ]
    },
    {
      "cell_type": "code",
      "source": [
        "print('Estou aprendendo', palavra2, 'e estou curtindo bastante')"
      ],
      "metadata": {
        "colab": {
          "base_uri": "https://localhost:8080/"
        },
        "id": "Bq5GIeAyMdhE",
        "outputId": "7e685d27-24e2-4971-f95d-5b1e089d50d4"
      },
      "execution_count": 23,
      "outputs": [
        {
          "output_type": "stream",
          "name": "stdout",
          "text": [
            "Estou aprendendo Python e estou curtindo bastante\n"
          ]
        }
      ]
    },
    {
      "cell_type": "code",
      "source": [
        "idade = int(input('Digite sua idade:'))\n",
        "ano_nasc = 2023 - idade\n",
        "print('Sua idade é', idade, 'você nasceu em', ano_nasc)"
      ],
      "metadata": {
        "colab": {
          "base_uri": "https://localhost:8080/"
        },
        "id": "O2oR2opPM_CG",
        "outputId": "6de324c0-34f8-4609-f6cb-721bf6bffe27"
      },
      "execution_count": 27,
      "outputs": [
        {
          "output_type": "stream",
          "name": "stdout",
          "text": [
            "Digite sua idade:36\n",
            "Sua idade é 36 você nasceu em 1987\n"
          ]
        }
      ]
    },
    {
      "cell_type": "code",
      "source": [
        "altura = float(input('Qual sua altura:'))\n",
        "print('A, legal, você tem', idade, 'anos e possui', altura, 'm')"
      ],
      "metadata": {
        "colab": {
          "base_uri": "https://localhost:8080/"
        },
        "id": "lwRahShxN3bN",
        "outputId": "9477a960-24b6-4d88-bac8-38783756421b"
      },
      "execution_count": 28,
      "outputs": [
        {
          "output_type": "stream",
          "name": "stdout",
          "text": [
            "Qual sua altura:1.83\n",
            "A, legal, você tem 36 anos e possui 1.83 m\n"
          ]
        }
      ]
    },
    {
      "cell_type": "code",
      "source": [
        "print('Hoje nos temos', numero_alunos, 'conectados!')"
      ],
      "metadata": {
        "colab": {
          "base_uri": "https://localhost:8080/"
        },
        "id": "B7K6dUiTOJRp",
        "outputId": "11f08f44-500e-41eb-bd7b-4841ce95eee2"
      },
      "execution_count": 30,
      "outputs": [
        {
          "output_type": "stream",
          "name": "stdout",
          "text": [
            "Hoje nos temos 56 conectados!\n"
          ]
        }
      ]
    },
    {
      "cell_type": "code",
      "source": [
        "nome = str(input('Qual seu nome:'))\n",
        "print('Seja bem-vindo(a)', nome)"
      ],
      "metadata": {
        "colab": {
          "base_uri": "https://localhost:8080/"
        },
        "id": "x24Ro-ecOU5q",
        "outputId": "a7456f39-952c-4833-c026-5db46b765812"
      },
      "execution_count": 39,
      "outputs": [
        {
          "output_type": "stream",
          "name": "stdout",
          "text": [
            "Qual seu nome:Thiago Traue\n",
            "Seja bem-vindo(a) Thiago Traue\n"
          ]
        }
      ]
    }
  ]
}