{
  "nbformat": 4,
  "nbformat_minor": 0,
  "metadata": {
    "colab": {
      "provenance": []
    },
    "kernelspec": {
      "name": "python3",
      "display_name": "Python 3"
    },
    "language_info": {
      "name": "python"
    }
  },
  "cells": [
    {
      "cell_type": "markdown",
      "source": [
        "# Manipulação de Strings"
      ],
      "metadata": {
        "id": "ADJ_JWLWXE1U"
      }
    },
    {
      "cell_type": "code",
      "source": [
        "a = 'uninove'\n",
        "print(a)"
      ],
      "metadata": {
        "colab": {
          "base_uri": "https://localhost:8080/"
        },
        "id": "b2ZNS3crXKC4",
        "outputId": "663f777e-eff9-495d-9e58-70a16fe6311b"
      },
      "execution_count": 9,
      "outputs": [
        {
          "output_type": "stream",
          "name": "stdout",
          "text": [
            "uninove\n"
          ]
        }
      ]
    },
    {
      "cell_type": "code",
      "source": [
        "maiuscula = a.upper()\n",
        "print(maiuscula)"
      ],
      "metadata": {
        "colab": {
          "base_uri": "https://localhost:8080/"
        },
        "id": "wi5z9YgNafts",
        "outputId": "bdd9c0ea-ed28-4a49-cc3b-7604683413f4"
      },
      "execution_count": 10,
      "outputs": [
        {
          "output_type": "stream",
          "name": "stdout",
          "text": [
            "UNINOVE\n"
          ]
        }
      ]
    },
    {
      "cell_type": "code",
      "source": [
        "minuscula = maiuscula.lower()\n",
        "print(minuscula)"
      ],
      "metadata": {
        "colab": {
          "base_uri": "https://localhost:8080/"
        },
        "id": "UR11pdaja-Zu",
        "outputId": "d612bcda-fe4e-4b08-cf26-5457fe16ae64"
      },
      "execution_count": 11,
      "outputs": [
        {
          "output_type": "stream",
          "name": "stdout",
          "text": [
            "uninove\n"
          ]
        }
      ]
    },
    {
      "cell_type": "code",
      "source": [
        "capital = a.capitalize()\n",
        "print(capital)"
      ],
      "metadata": {
        "colab": {
          "base_uri": "https://localhost:8080/"
        },
        "id": "rz1yFokKbVUH",
        "outputId": "cda6d078-c725-4225-c6fc-df20b2824d4b"
      },
      "execution_count": 12,
      "outputs": [
        {
          "output_type": "stream",
          "name": "stdout",
          "text": [
            "Uninove\n"
          ]
        }
      ]
    },
    {
      "cell_type": "code",
      "source": [
        "texto = 'a uninove é DEZ'\n",
        "cap = texto.capitalize()\n",
        "print(cap)"
      ],
      "metadata": {
        "colab": {
          "base_uri": "https://localhost:8080/"
        },
        "id": "-VlTjztgbyvL",
        "outputId": "99411829-b059-426f-da14-7608a7fd44a6"
      },
      "execution_count": 15,
      "outputs": [
        {
          "output_type": "stream",
          "name": "stdout",
          "text": [
            "A uninove é dez\n"
          ]
        }
      ]
    },
    {
      "cell_type": "code",
      "source": [
        "metade = a[0:3].capitalize()\n",
        "print(metade)\n"
      ],
      "metadata": {
        "colab": {
          "base_uri": "https://localhost:8080/"
        },
        "id": "mnIF1pOge_hU",
        "outputId": "a61f2895-ad4a-408a-970b-9834cabf4958"
      },
      "execution_count": 21,
      "outputs": [
        {
          "output_type": "stream",
          "name": "stdout",
          "text": [
            "Uni\n"
          ]
        }
      ]
    },
    {
      "cell_type": "code",
      "source": [
        "# uninove -> ovni\n",
        "ovni = a[4:6] + a[1:3]\n",
        "print(ovni)"
      ],
      "metadata": {
        "colab": {
          "base_uri": "https://localhost:8080/"
        },
        "id": "lIXyX2Pif0r4",
        "outputId": "bd8399b0-dfc7-4f56-a256-476fc9c252bc"
      },
      "execution_count": 32,
      "outputs": [
        {
          "output_type": "stream",
          "name": "stdout",
          "text": [
            "ovni\n"
          ]
        }
      ]
    },
    {
      "cell_type": "code",
      "source": [
        "ultimas_letras = a[3:]\n",
        "print(ultimas_letras)"
      ],
      "metadata": {
        "colab": {
          "base_uri": "https://localhost:8080/"
        },
        "id": "cUyMjcFqg1BG",
        "outputId": "336c8995-0d34-481c-a5be-3633e5f35b42"
      },
      "execution_count": 34,
      "outputs": [
        {
          "output_type": "stream",
          "name": "stdout",
          "text": [
            "nove\n"
          ]
        }
      ]
    },
    {
      "cell_type": "code",
      "source": [
        "nome = str(input('Informe seu nome: '))\n",
        "nome = nome.title()\n",
        "print(nome)"
      ],
      "metadata": {
        "colab": {
          "base_uri": "https://localhost:8080/"
        },
        "id": "cqsUNrOshFbX",
        "outputId": "349023d6-1c21-4719-831f-ace355bcffea"
      },
      "execution_count": 47,
      "outputs": [
        {
          "output_type": "stream",
          "name": "stdout",
          "text": [
            "Informe seu nome: sidney fERREIRA MaChaDo\n",
            "Sidney Ferreira Machado\n"
          ]
        }
      ]
    },
    {
      "cell_type": "code",
      "source": [
        "b = a.replace('o', 'i') #cuidado poir é \"case sensitive\"\n",
        "print(b)"
      ],
      "metadata": {
        "colab": {
          "base_uri": "https://localhost:8080/"
        },
        "id": "l-gCWmR3tAxs",
        "outputId": "0ee1b873-6a37-413f-bbb1-57512e60f0fa"
      },
      "execution_count": 52,
      "outputs": [
        {
          "output_type": "stream",
          "name": "stdout",
          "text": [
            "uninive\n"
          ]
        }
      ]
    },
    {
      "cell_type": "code",
      "source": [
        "a.find('n') # buscar um caracter em uma String"
      ],
      "metadata": {
        "colab": {
          "base_uri": "https://localhost:8080/"
        },
        "id": "sC8E4iivtRTv",
        "outputId": "91cf199c-1a9b-464f-f3f1-6abcd68547fb"
      },
      "execution_count": 54,
      "outputs": [
        {
          "output_type": "execute_result",
          "data": {
            "text/plain": [
              "6"
            ]
          },
          "metadata": {},
          "execution_count": 54
        }
      ]
    },
    {
      "cell_type": "code",
      "source": [
        "tamanho = len(a)\n",
        "print(tamanho)"
      ],
      "metadata": {
        "colab": {
          "base_uri": "https://localhost:8080/"
        },
        "id": "bJGgXJdXtfEu",
        "outputId": "ea3a265b-20db-4ea9-bfe0-90da6cd78ffd"
      },
      "execution_count": 56,
      "outputs": [
        {
          "output_type": "stream",
          "name": "stdout",
          "text": [
            "7\n"
          ]
        }
      ]
    },
    {
      "cell_type": "code",
      "source": [
        "c = ' Uninove'\n",
        "print(len(c))"
      ],
      "metadata": {
        "colab": {
          "base_uri": "https://localhost:8080/"
        },
        "id": "FVa6BGZTtodh",
        "outputId": "1be30ef4-3eb7-44dd-9cd9-77d71df29a7f"
      },
      "execution_count": 57,
      "outputs": [
        {
          "output_type": "stream",
          "name": "stdout",
          "text": [
            "8\n"
          ]
        }
      ]
    },
    {
      "cell_type": "code",
      "source": [
        "n1 = 10\n",
        "n2 = 20\n",
        "# quero imprimir isso: \"A divisão de 20 por 10 é 2\"\n",
        "divisao = n2 / n1\n",
        "print('A divisão de', n2, 'por', n1, 'é', divisao)"
      ],
      "metadata": {
        "colab": {
          "base_uri": "https://localhost:8080/"
        },
        "id": "M6Gvv2zstvsA",
        "outputId": "e095a031-e36a-436c-8a58-04242ca9b23b"
      },
      "execution_count": 58,
      "outputs": [
        {
          "output_type": "stream",
          "name": "stdout",
          "text": [
            "A divisão de 20 por 10 é 2.0\n"
          ]
        }
      ]
    },
    {
      "cell_type": "code",
      "source": [
        "# forma mais bonita de \"formatar\" uma string (isso chama-se interpolação)\n",
        "print(f'A divisão de {n2} por {n1} é {n2 / n1}')"
      ],
      "metadata": {
        "colab": {
          "base_uri": "https://localhost:8080/"
        },
        "id": "tQaa3qi4uEmD",
        "outputId": "e89098e8-5ed0-4733-ad31-2e5549907086"
      },
      "execution_count": 61,
      "outputs": [
        {
          "output_type": "stream",
          "name": "stdout",
          "text": [
            "A divisão de 20 por 10 é 2.0\n"
          ]
        }
      ]
    }
  ]
}