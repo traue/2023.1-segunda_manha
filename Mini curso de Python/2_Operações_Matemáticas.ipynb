{
  "nbformat": 4,
  "nbformat_minor": 0,
  "metadata": {
    "colab": {
      "provenance": []
    },
    "kernelspec": {
      "name": "python3",
      "display_name": "Python 3"
    },
    "language_info": {
      "name": "python"
    }
  },
  "cells": [
    {
      "cell_type": "markdown",
      "source": [
        "# Operações Matemáticas"
      ],
      "metadata": {
        "id": "3ljmYJeY2HUF"
      }
    },
    {
      "cell_type": "markdown",
      "source": [
        "## Operações Matemáticas"
      ],
      "metadata": {
        "id": "C9vO2WLU2PRq"
      }
    },
    {
      "cell_type": "code",
      "source": [
        "a = 6\n",
        "b = 9"
      ],
      "metadata": {
        "id": "EnEfbRa_2fgd"
      },
      "execution_count": 35,
      "outputs": []
    },
    {
      "cell_type": "code",
      "source": [
        "# Soma\n",
        "\n",
        "soma = a + b\n",
        "\n",
        "print(f'A soma de {a} e {b} é {soma}') # isso se chama interpolação\n",
        "print(f'A soma é {a + b}') # mais uma forma de fazer\n",
        "print('A soma é', a + b) # outra forma de exibir"
      ],
      "metadata": {
        "colab": {
          "base_uri": "https://localhost:8080/"
        },
        "id": "cMQp0Ot42zKe",
        "outputId": "c2327957-bbc6-4dca-b0f2-7b6c84bf0815"
      },
      "execution_count": 36,
      "outputs": [
        {
          "output_type": "stream",
          "name": "stdout",
          "text": [
            "A soma de 6 e 9 é 15\n",
            "A soma é 15\n",
            "A soma é 15\n"
          ]
        }
      ]
    },
    {
      "cell_type": "code",
      "source": [
        "# demais operações básicas\n",
        "sub = a - b\n",
        "mult = a * b\n",
        "div = a / b"
      ],
      "metadata": {
        "id": "L-ZA5pK64hWM"
      },
      "execution_count": 37,
      "outputs": []
    },
    {
      "cell_type": "code",
      "source": [
        "print(f'O resultado de {a} - {b} = {sub}')\n",
        "print(f'O resultado de {a} * {b} = {mult}')\n",
        "print(f'O resultado de {a} / {b} = {div, 2}')"
      ],
      "metadata": {
        "colab": {
          "base_uri": "https://localhost:8080/"
        },
        "id": "EyeOgSCo4mPd",
        "outputId": "5d8be964-a5c3-4c62-c091-4770a73e60a3"
      },
      "execution_count": 38,
      "outputs": [
        {
          "output_type": "stream",
          "name": "stdout",
          "text": [
            "O resultado de 6 - 9 = -3\n",
            "O resultado de 6 * 9 = 54\n",
            "O resultado de 6 / 9 = (0.6666666666666666, 2)\n"
          ]
        }
      ]
    },
    {
      "cell_type": "code",
      "source": [
        "# resto de divisão\n",
        "resto = a % b # chamamos isso de MOD (a leitura é a MOD B)\n",
        "\n",
        "print(f'O resto da divisão de {a} e {b} é {resto}')"
      ],
      "metadata": {
        "colab": {
          "base_uri": "https://localhost:8080/"
        },
        "id": "eh8LgYyf5EG4",
        "outputId": "ef1a2df7-9644-4934-efa2-c98644c58d3c"
      },
      "execution_count": 39,
      "outputs": [
        {
          "output_type": "stream",
          "name": "stdout",
          "text": [
            "O resto da divisão de 6 e 9 é 6\n"
          ]
        }
      ]
    },
    {
      "cell_type": "code",
      "source": [
        "print('O resto da divisão de 10 e 3 é ', 10 % 3)"
      ],
      "metadata": {
        "colab": {
          "base_uri": "https://localhost:8080/"
        },
        "id": "zsNLNxaN7K08",
        "outputId": "333beee0-eece-48d0-c5b4-26235897ec89"
      },
      "execution_count": 40,
      "outputs": [
        {
          "output_type": "stream",
          "name": "stdout",
          "text": [
            "O resto da divisão de 10 e 3 é  1\n"
          ]
        }
      ]
    },
    {
      "cell_type": "code",
      "source": [
        "#Parte inteira da divisão\n",
        "\n",
        "parte_inteira_div = 45345 // 243\n",
        "resto = 45345 % 243\n",
        "print(f'A parte inteira da divisão é: {parte_inteira_div}')\n",
        "print(f'O resto neste caso foi de {resto}')"
      ],
      "metadata": {
        "colab": {
          "base_uri": "https://localhost:8080/"
        },
        "id": "7PQ9Mcr79Vbe",
        "outputId": "40c21cc4-eaff-4480-ff95-91f83ee149f5"
      },
      "execution_count": 45,
      "outputs": [
        {
          "output_type": "stream",
          "name": "stdout",
          "text": [
            "A parte inteira da divisão é: 186\n",
            "O resto neste caso foi de 147\n"
          ]
        }
      ]
    },
    {
      "cell_type": "code",
      "source": [
        "# potência\n",
        "\n",
        "a = 8\n",
        "b = 3\n",
        "\n",
        "pot = a ** b # é o mesmo que a^b\n",
        "\n",
        "print(f'{a}^{b} = {pot}')"
      ],
      "metadata": {
        "colab": {
          "base_uri": "https://localhost:8080/"
        },
        "id": "k2hluNcU7YwF",
        "outputId": "78688e8a-980c-4298-a150-a754e3604e1e"
      },
      "execution_count": 31,
      "outputs": [
        {
          "output_type": "stream",
          "name": "stdout",
          "text": [
            "8^3 = 512\n"
          ]
        }
      ]
    },
    {
      "cell_type": "code",
      "source": [
        "# outra forma de usar a potenciação\n",
        "\n",
        "pot2 = pow(a, b)\n",
        "print(f'{a}^{b} = {pot2}') #pow é uma função pré-existente no Python para potenciação"
      ],
      "metadata": {
        "colab": {
          "base_uri": "https://localhost:8080/"
        },
        "id": "0vFtU5En78t5",
        "outputId": "f9f19f18-b349-47b2-e311-98b167f1e162"
      },
      "execution_count": 33,
      "outputs": [
        {
          "output_type": "stream",
          "name": "stdout",
          "text": [
            "8^3 = 512\n"
          ]
        }
      ]
    },
    {
      "cell_type": "code",
      "source": [
        "nome = str(input('Insira seu nome: '))\n",
        "idade = int(input('Qual sua idade: '))\n",
        "\n",
        "ano_atual = 2023\n",
        "ano_nasc = ano_atual - idade\n",
        "\n",
        "print('Olá', nome, 'você nasceu em', ano_nasc, 'por isso você tem', idade, 'anos. Estamos em', ano_atual)\n",
        "\n",
        "\n",
        "print(f'Olá {nome} você nasceu em {ano_nasc} por isso você tem {idade} anos. Estamos em {ano_atual}')"
      ],
      "metadata": {
        "colab": {
          "base_uri": "https://localhost:8080/"
        },
        "id": "ZvFcv2MI9-AE",
        "outputId": "ce7ed52e-c8cc-4a2a-87eb-7f340c69808b"
      },
      "execution_count": 52,
      "outputs": [
        {
          "output_type": "stream",
          "name": "stdout",
          "text": [
            "Insira seu nome: Jonathan\n",
            "Qual sua idade: 21\n",
            "Olá Jonathan você nasceu em 2002 por isso você tem 21 anos. Estamos em 2023\n",
            "Olá Jonathan você nasceu em 2002 por isso você tem 21 anos. Estamos em 2023\n"
          ]
        }
      ]
    },
    {
      "cell_type": "code",
      "source": [
        "#Resumindo:\n",
        "\n",
        "  # +  = Adição\n",
        "  # - = Subtração\n",
        "  # * = Multiplicação\n",
        "  # / = Divisão\n",
        "  # ** = Potenciação\n",
        "  # // = Divisão Inteira\n",
        "  # % = Resto da divisão"
      ],
      "metadata": {
        "id": "PyUMjT9uAOUq"
      },
      "execution_count": null,
      "outputs": []
    },
    {
      "cell_type": "code",
      "source": [
        "# Prioridade matemática - o Python respeita!\n",
        "\n",
        "resultado = 4 + 5 * 2\n",
        "\n",
        "print(resultado)\n",
        "\n",
        "resultado = (4 + 5) * 2\n",
        "\n",
        "print(resultado)\n",
        "\n",
        "resultado = 2 + 10 / 2 + 8 / 4\n",
        "\n",
        "print(resultado)\n",
        "\n",
        "resultado = 3 * (5 + 4)**2\n",
        "\n",
        "print(resultado)"
      ],
      "metadata": {
        "colab": {
          "base_uri": "https://localhost:8080/"
        },
        "id": "ZYRz2DJ-AW9y",
        "outputId": "bc024e0a-5614-4ae5-af39-d383365d0b3d"
      },
      "execution_count": 58,
      "outputs": [
        {
          "output_type": "stream",
          "name": "stdout",
          "text": [
            "14\n",
            "18\n",
            "9.0\n",
            "243\n"
          ]
        }
      ]
    },
    {
      "cell_type": "code",
      "source": [
        "import math #importa para este código os recursos prontos da classe \"Math\" (matemática)\n",
        "\n",
        "numero = int(input('Digite um número inteiro: '))\n",
        "raiz = math.sqrt(numero)\n",
        "\n",
        "print(f'A raiz de {numero} é {raiz}')\n",
        "\n",
        "raiz = numero**(1/3)\n",
        "\n",
        "print(f'A raiz cúbica de {numero} é {raiz}')\n"
      ],
      "metadata": {
        "colab": {
          "base_uri": "https://localhost:8080/"
        },
        "id": "C3GJsrGQCrNj",
        "outputId": "640530a8-9647-4f7a-dc68-3ddb8bf3fd21"
      },
      "execution_count": 65,
      "outputs": [
        {
          "output_type": "stream",
          "name": "stdout",
          "text": [
            "Digite um número inteiro: 225\n",
            "A raiz de 225 é 15.0\n",
            "A raiz cúbica de 225 é 6.082201995573399\n"
          ]
        }
      ]
    },
    {
      "cell_type": "code",
      "source": [
        "math.pi"
      ],
      "metadata": {
        "colab": {
          "base_uri": "https://localhost:8080/"
        },
        "id": "wsIxvC0SEKE5",
        "outputId": "13fcdd13-e6b7-443d-9fcf-649efcbd92de"
      },
      "execution_count": 66,
      "outputs": [
        {
          "output_type": "execute_result",
          "data": {
            "text/plain": [
              "3.141592653589793"
            ]
          },
          "metadata": {},
          "execution_count": 66
        }
      ]
    },
    {
      "cell_type": "markdown",
      "source": [
        "## Arredondamento\n"
      ],
      "metadata": {
        "id": "aCsDQFej2TX6"
      }
    },
    {
      "cell_type": "code",
      "source": [
        "casos_doenca = 1248\n",
        "numero_habitantes = 3523\n",
        "\n",
        "casos_por_habitante = casos_doenca / numero_habitantes\n",
        "\n",
        "print(casos_por_habitante)"
      ],
      "metadata": {
        "colab": {
          "base_uri": "https://localhost:8080/"
        },
        "id": "2ljcBMB9Ea-q",
        "outputId": "5b55ff3b-0948-4886-a4d4-36d6ce4848e4"
      },
      "execution_count": 74,
      "outputs": [
        {
          "output_type": "stream",
          "name": "stdout",
          "text": [
            "0.35424354243542433\n"
          ]
        }
      ]
    },
    {
      "cell_type": "code",
      "source": [
        "round(casos_por_habitante, 3) # isso faz o arredondamento para apensa 3 casas decimais"
      ],
      "metadata": {
        "colab": {
          "base_uri": "https://localhost:8080/"
        },
        "id": "Um_WiPn7FB3N",
        "outputId": "ea1c7591-3bbe-4dd4-fe0d-d65a1d18dcbe"
      },
      "execution_count": 75,
      "outputs": [
        {
          "output_type": "execute_result",
          "data": {
            "text/plain": [
              "0.354"
            ]
          },
          "metadata": {},
          "execution_count": 75
        }
      ]
    },
    {
      "cell_type": "code",
      "source": [
        "print(f'O núemro de cassos por habitante é de {round(casos_por_habitante, 3)}')"
      ],
      "metadata": {
        "colab": {
          "base_uri": "https://localhost:8080/"
        },
        "id": "AvaU1AQ7Fl10",
        "outputId": "d79786e1-a647-463b-a196-cf579a25b35c"
      },
      "execution_count": 76,
      "outputs": [
        {
          "output_type": "stream",
          "name": "stdout",
          "text": [
            "O núemro de cassos por habitante é de 0.354\n"
          ]
        }
      ]
    },
    {
      "cell_type": "code",
      "source": [
        "#outra forma de arredondar (ou \"formatar\") números é...\n",
        "\n",
        "print('O número de casos por habitante é {:.3f}'.format(casos_por_habitante))\n",
        "\n",
        "print(f'O número de casos por habitante é {casos_por_habitante:.4f}')\n",
        "\n",
        "print(math.pi)\n",
        "\n",
        "print(round(math.pi, 2))\n"
      ],
      "metadata": {
        "colab": {
          "base_uri": "https://localhost:8080/"
        },
        "id": "yLIP6mQhFxM7",
        "outputId": "6d46fd89-f699-4fc3-83d5-60a64bc22016"
      },
      "execution_count": 82,
      "outputs": [
        {
          "output_type": "stream",
          "name": "stdout",
          "text": [
            "O número de casos por habitante é 0.354\n",
            "O número de casos por habitante é 0.3542\n",
            "3.141592653589793\n",
            "3.14\n"
          ]
        }
      ]
    },
    {
      "cell_type": "markdown",
      "source": [
        "## Exercícios de fixação"
      ],
      "metadata": {
        "id": "fp6VCg4VHZK2"
      }
    },
    {
      "cell_type": "markdown",
      "source": [
        "**Exercícios de Fixação:**\n",
        "\n",
        "1. Ler dois números inteiros, executar e mostrar o resultado das seguintes operações: adição, subtração, multiplicação e divisão\n",
        "\n",
        "2. Efetuar o cálculo da quantidade de litros de combustível gasto em uma viagem, utilizando um automóvel que faz 12 Km por litro. Para obter o cálculo, o usuário deve fornecer o tempo gasto na viagem e a velocidade média durante ela. Desta forma, será possível obter a distância percorrida com a fórmula DISTANCIA = TEMPO * VELOCIDADE. Tendo o valor da distância, basta calcular a quantidade de litros de combustível utilizada na viagem, com a fórmula: LITROS_USADOS = DISTANCIA / 12. O programa deve apresentar os valores da velocidade média, tempo gasto na viagem, a distância percorrida e a quantidade de litros utilizada na viagem\n",
        "\n"
      ],
      "metadata": {
        "id": "FbzCXdpWHlwB"
      }
    },
    {
      "cell_type": "markdown",
      "source": [
        "### Resolução Ex1"
      ],
      "metadata": {
        "id": "IGk93yvUJv84"
      }
    },
    {
      "cell_type": "code",
      "source": [
        "#Otenção dos valores de entrada\n",
        "n1 = int(input('Informe o primeiro valor: '))\n",
        "n2 = int(input('Informe o segundo valor: '))"
      ],
      "metadata": {
        "colab": {
          "base_uri": "https://localhost:8080/"
        },
        "id": "kOab344_J0Jo",
        "outputId": "123f071f-13de-4686-e4f4-52d2c2dbfbfd"
      },
      "execution_count": 89,
      "outputs": [
        {
          "name": "stdout",
          "output_type": "stream",
          "text": [
            "Informe o primeiro valor: 40\n",
            "Informe o segundo valor: 2\n"
          ]
        }
      ]
    },
    {
      "cell_type": "code",
      "source": [
        "# Cálculos\n",
        "soma = n1 + n2\n",
        "subtracao = n1 - n2\n",
        "multiplicacao = n1 * n2\n",
        "divisao = n1 / n2"
      ],
      "metadata": {
        "id": "Bc_xR0AlKD4r"
      },
      "execution_count": 90,
      "outputs": []
    },
    {
      "cell_type": "code",
      "source": [
        "#exibição dos resultados\n",
        "\n",
        "print(f'A soma de {n1} e {n2} é {soma}')\n",
        "print(f'A subtração de {n1} e {n2} é {subtracao}')\n",
        "print(f'A multiplicação de {n1} e {n2} é {multiplicacao}')\n",
        "print(f'A divisão de {n1} e {n2} é {divisao}')"
      ],
      "metadata": {
        "colab": {
          "base_uri": "https://localhost:8080/"
        },
        "id": "iUDBe5YJKOgH",
        "outputId": "60df1ed8-b45e-4548-e343-e169ea96590b"
      },
      "execution_count": 91,
      "outputs": [
        {
          "output_type": "stream",
          "name": "stdout",
          "text": [
            "A soma de 40 e 2 é 42\n",
            "A subtração de 40 e 2 é 38\n",
            "A multiplicação de 40 e 2 é 80\n",
            "A divisão de 40 e 2 é 20.0\n"
          ]
        }
      ]
    },
    {
      "cell_type": "code",
      "source": [
        "# versão Vinicius\n",
        "n1 = int(input('Insira o primeiro número: '))\n",
        "n2 = int(input('Insira o segundo número: '))\n",
        "print(f'A adição é {n1+n2}, subtração é {n1-n2}, multiplicação {n1*n2} e divisão {n1/n2}')"
      ],
      "metadata": {
        "colab": {
          "base_uri": "https://localhost:8080/"
        },
        "id": "AhbeACgdLBrI",
        "outputId": "47844b8c-5e71-4401-8321-9de7c8755553"
      },
      "execution_count": 92,
      "outputs": [
        {
          "output_type": "stream",
          "name": "stdout",
          "text": [
            "Insira o primeiro número: 40\n",
            "Insira o segundo número: 2\n",
            "A adição é 42, subtração é 38, multiplicação 80 e divisão 20.0\n"
          ]
        }
      ]
    },
    {
      "cell_type": "markdown",
      "source": [
        "### Resolução Ex2\n"
      ],
      "metadata": {
        "id": "9y8brRzyLiq1"
      }
    },
    {
      "cell_type": "code",
      "source": [
        "# Obtenção dos dados (entradas)\n",
        "\n",
        "tempo_gasto = float(input('Informe o tempo (em horas) da viagem: '))\n",
        "velocidade_media = float(input('Informe a velocidade (em Km/h) média: '))"
      ],
      "metadata": {
        "colab": {
          "base_uri": "https://localhost:8080/"
        },
        "id": "Tc7pthGDLmmZ",
        "outputId": "1feabfd6-fbe5-49dc-c511-09a8185e3a7c"
      },
      "execution_count": 100,
      "outputs": [
        {
          "name": "stdout",
          "output_type": "stream",
          "text": [
            "Informe o tempo (em horas) da viagem: 2.5\n",
            "Informe a velocidade (em Km/h) média: 120\n"
          ]
        }
      ]
    },
    {
      "cell_type": "code",
      "source": [
        "# Cálculos\n",
        "consumo = 12\n",
        "distancia = tempo_gasto * velocidade_media\n",
        "qtd_litros = distancia / consumo"
      ],
      "metadata": {
        "id": "bVf6q44QMC3A"
      },
      "execution_count": 101,
      "outputs": []
    },
    {
      "cell_type": "code",
      "source": [
        "# Exibição dos resultados\n",
        "print(f'A velocidade média foi de {velocidade_media} Km/h')\n",
        "print(f'O tempo gasto na viagem foi de {tempo_gasto}h')\n",
        "print(f'A ditância percorrida foi de {distancia}Km')\n",
        "print(f'Utilizou-se {round(qtd_litros, 2)}L de combustível')"
      ],
      "metadata": {
        "colab": {
          "base_uri": "https://localhost:8080/"
        },
        "id": "wjt7U2IcMVRp",
        "outputId": "461c1a6c-f818-4ab7-9d2b-d324e76cc541"
      },
      "execution_count": 102,
      "outputs": [
        {
          "output_type": "stream",
          "name": "stdout",
          "text": [
            "A velocidade média foi de 120.0 Km/h\n",
            "O tempo gasto na viagem foi de 2.5h\n",
            "A ditância percorrida foi de 300.0Km\n",
            "Utilizou-se 25.0L de combustível\n"
          ]
        }
      ]
    },
    {
      "cell_type": "code",
      "source": [
        "# versão do João:\n",
        "import math\n",
        "\n",
        "tempo_viagem = int(input(\"tempo gasto em horas: \"))\n",
        "v_media = int(input(\"velocidade média em Km/h: \"))\n",
        "\n",
        "distancia = tempo_viagem * v_media\n",
        "\n",
        "litros_usados = distancia/12\n",
        "\n",
        "print(f\"\\nvelocidade média:{v_media}Km/h\\ndistancia:{distancia}Km\\nlitros usados:{round(litros_usados, 3)}L\")\n",
        "\n",
        "if tempo_viagem == 1:\n",
        "  print(f\"tempo gasto na viagem:{tempo_viagem} Hora\\n\")\n",
        "else:print(f\"tempo gasto na viagem:{tempo_viagem} Horas\\n\")"
      ],
      "metadata": {
        "colab": {
          "base_uri": "https://localhost:8080/"
        },
        "id": "GWcASNbANqMl",
        "outputId": "87bc97c7-9dca-478d-ea37-6efe7bb991fe"
      },
      "execution_count": 103,
      "outputs": [
        {
          "output_type": "stream",
          "name": "stdout",
          "text": [
            "tempo gasto em horas: 3\n",
            "velocidade média em Km/h: 120\n",
            "\n",
            "velocidade média:120Km/h\n",
            "distancia:360Km\n",
            "litros usados:30.0L\n",
            "tempo gasto na viagem:3 Horas\n",
            "\n"
          ]
        }
      ]
    }
  ]
}