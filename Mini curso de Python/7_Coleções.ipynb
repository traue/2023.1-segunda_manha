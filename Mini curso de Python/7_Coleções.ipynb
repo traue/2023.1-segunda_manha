{
  "nbformat": 4,
  "nbformat_minor": 0,
  "metadata": {
    "colab": {
      "provenance": []
    },
    "kernelspec": {
      "name": "python3",
      "display_name": "Python 3"
    },
    "language_info": {
      "name": "python"
    }
  },
  "cells": [
    {
      "cell_type": "markdown",
      "source": [
        "# Coleções"
      ],
      "metadata": {
        "id": "N5lGwM65LVyc"
      }
    },
    {
      "cell_type": "markdown",
      "source": [
        "## Tuplas"
      ],
      "metadata": {
        "id": "TR1qpL2mLXnW"
      }
    },
    {
      "cell_type": "code",
      "source": [
        "tupla = ('Rafael', 'Walison', 'Gustavo', 'Higor', 'Sidão', 7, 'Rafael')"
      ],
      "metadata": {
        "id": "D3TrIlkqLwfi"
      },
      "execution_count": 16,
      "outputs": []
    },
    {
      "cell_type": "code",
      "source": [
        "tupla"
      ],
      "metadata": {
        "colab": {
          "base_uri": "https://localhost:8080/"
        },
        "id": "PH5dHSffMFXP",
        "outputId": "3bf748d7-4857-4359-8464-32b33905edd3"
      },
      "execution_count": 17,
      "outputs": [
        {
          "output_type": "execute_result",
          "data": {
            "text/plain": [
              "('Rafael', 'Walison', 'Gustavo', 'Higor', 'Sidão', 7, 'Rafael')"
            ]
          },
          "metadata": {},
          "execution_count": 17
        }
      ]
    },
    {
      "cell_type": "code",
      "source": [
        "tupla[4]"
      ],
      "metadata": {
        "colab": {
          "base_uri": "https://localhost:8080/",
          "height": 35
        },
        "id": "3Ujd94vyMLPx",
        "outputId": "5ef546df-047d-486b-ef2f-0d6d768f28d0"
      },
      "execution_count": 18,
      "outputs": [
        {
          "output_type": "execute_result",
          "data": {
            "text/plain": [
              "'Sidão'"
            ],
            "application/vnd.google.colaboratory.intrinsic+json": {
              "type": "string"
            }
          },
          "metadata": {},
          "execution_count": 18
        }
      ]
    },
    {
      "cell_type": "code",
      "source": [
        "tupla.index('Higor')"
      ],
      "metadata": {
        "colab": {
          "base_uri": "https://localhost:8080/"
        },
        "id": "Lzv2gh5nMUTN",
        "outputId": "fdaf46f6-4c48-442a-8540-502116e5672a"
      },
      "execution_count": 19,
      "outputs": [
        {
          "output_type": "execute_result",
          "data": {
            "text/plain": [
              "3"
            ]
          },
          "metadata": {},
          "execution_count": 19
        }
      ]
    },
    {
      "cell_type": "code",
      "source": [
        "# tupla.index('Traue') #da um erro! :("
      ],
      "metadata": {
        "id": "ItfvsG_6MY2F"
      },
      "execution_count": 24,
      "outputs": []
    },
    {
      "cell_type": "code",
      "source": [
        "for item in tupla:\n",
        "  print(item)"
      ],
      "metadata": {
        "colab": {
          "base_uri": "https://localhost:8080/"
        },
        "id": "FEdIneAvMhF9",
        "outputId": "7143d04b-35e1-46ec-e1b9-6eafe049dfd5"
      },
      "execution_count": 21,
      "outputs": [
        {
          "output_type": "stream",
          "name": "stdout",
          "text": [
            "Rafael\n",
            "Walison\n",
            "Gustavo\n",
            "Higor\n",
            "Sidão\n",
            "7\n",
            "Rafael\n"
          ]
        }
      ]
    },
    {
      "cell_type": "code",
      "source": [
        "tupla.count('Rafael') #conta o número de vezes dessa ocorrência"
      ],
      "metadata": {
        "colab": {
          "base_uri": "https://localhost:8080/"
        },
        "id": "kLcNKLe5Mp1B",
        "outputId": "8cf3fff3-8044-4fa5-a3bd-8be300d7d400"
      },
      "execution_count": 23,
      "outputs": [
        {
          "output_type": "execute_result",
          "data": {
            "text/plain": [
              "2"
            ]
          },
          "metadata": {},
          "execution_count": 23
        }
      ]
    },
    {
      "cell_type": "markdown",
      "source": [
        "## Listas"
      ],
      "metadata": {
        "id": "x-EvGlNcLYxS"
      }
    },
    {
      "cell_type": "code",
      "source": [
        "lista_alunos = ['Sidão', 'Vinicius', 'Rafael', 'Higor', 'Paulo']\n",
        "lista_profs = ['Traue', 'Edson', 'Favilla', 'Fabio']"
      ],
      "metadata": {
        "id": "ZEhQQIjCNcUS"
      },
      "execution_count": 50,
      "outputs": []
    },
    {
      "cell_type": "code",
      "source": [
        "for aluno in lista_alunos: #foreach -> para cada\n",
        "  print(aluno)"
      ],
      "metadata": {
        "colab": {
          "base_uri": "https://localhost:8080/"
        },
        "id": "wsW0hRsQOBlt",
        "outputId": "a7656947-4ac3-419c-9ae0-c3933c64060b"
      },
      "execution_count": 40,
      "outputs": [
        {
          "output_type": "stream",
          "name": "stdout",
          "text": [
            "Sidão\n",
            "Vinicius\n",
            "Rafael\n",
            "Higor\n",
            "Paulo\n",
            "8\n",
            "-1.4\n"
          ]
        }
      ]
    },
    {
      "cell_type": "code",
      "source": [
        "# o bloco acima é o mesmo que:\n",
        "for i in range(0, 5):\n",
        "  print(lista_alunos[i])"
      ],
      "metadata": {
        "colab": {
          "base_uri": "https://localhost:8080/"
        },
        "id": "ao-IBRRvPHlI",
        "outputId": "b74390c3-4439-4574-ff59-faf5af1fcdbf"
      },
      "execution_count": 34,
      "outputs": [
        {
          "output_type": "stream",
          "name": "stdout",
          "text": [
            "Sidão\n",
            "Vinicius\n",
            "Rafael\n",
            "Higor\n",
            "Paulo\n"
          ]
        }
      ]
    },
    {
      "cell_type": "code",
      "source": [
        "uninove = lista_alunos + lista_profs\n",
        "print(uninove)"
      ],
      "metadata": {
        "colab": {
          "base_uri": "https://localhost:8080/"
        },
        "id": "j1MmV3FmOL7r",
        "outputId": "7199991d-6479-4654-e2af-e6231eaefbf6"
      },
      "execution_count": 54,
      "outputs": [
        {
          "output_type": "stream",
          "name": "stdout",
          "text": [
            "['Sidão', 'Rafael', 'Higor', 'Paulo', 'Traue', 'Edson', 'Favilla', 'Fabio']\n"
          ]
        }
      ]
    },
    {
      "cell_type": "code",
      "source": [
        "uninove[4]"
      ],
      "metadata": {
        "colab": {
          "base_uri": "https://localhost:8080/",
          "height": 35
        },
        "id": "WQXPwz1SOPpL",
        "outputId": "1b3ff2a7-260a-4962-a2be-bb7237206e61"
      },
      "execution_count": 29,
      "outputs": [
        {
          "output_type": "execute_result",
          "data": {
            "text/plain": [
              "'Paulo'"
            ],
            "application/vnd.google.colaboratory.intrinsic+json": {
              "type": "string"
            }
          },
          "metadata": {},
          "execution_count": 29
        }
      ]
    },
    {
      "cell_type": "code",
      "source": [
        "lista_alunos * 2"
      ],
      "metadata": {
        "colab": {
          "base_uri": "https://localhost:8080/"
        },
        "id": "niI6rHC7Ofdq",
        "outputId": "5c9b375a-60bb-465f-9e33-2ecb0af68dbd"
      },
      "execution_count": 30,
      "outputs": [
        {
          "output_type": "execute_result",
          "data": {
            "text/plain": [
              "['Sidão',\n",
              " 'Vinicius',\n",
              " 'Rafael',\n",
              " 'Higor',\n",
              " 'Paulo',\n",
              " 'Sidão',\n",
              " 'Vinicius',\n",
              " 'Rafael',\n",
              " 'Higor',\n",
              " 'Paulo']"
            ]
          },
          "metadata": {},
          "execution_count": 30
        }
      ]
    },
    {
      "cell_type": "code",
      "source": [
        "lista_profs[0:2]"
      ],
      "metadata": {
        "colab": {
          "base_uri": "https://localhost:8080/"
        },
        "id": "B455kDdgOq0O",
        "outputId": "f36f67e7-a3ee-49dd-e28a-235fc87141b3"
      },
      "execution_count": 31,
      "outputs": [
        {
          "output_type": "execute_result",
          "data": {
            "text/plain": [
              "['Traue', 'Edson']"
            ]
          },
          "metadata": {},
          "execution_count": 31
        }
      ]
    },
    {
      "cell_type": "code",
      "source": [
        "lista_alunos.append('Emanuel') # para acrescentar (ao final) na lista\n",
        "lista_alunos"
      ],
      "metadata": {
        "colab": {
          "base_uri": "https://localhost:8080/"
        },
        "id": "mFrLZAejPs44",
        "outputId": "42f52263-eab7-45f5-f1aa-d962280a65ed"
      },
      "execution_count": 43,
      "outputs": [
        {
          "output_type": "execute_result",
          "data": {
            "text/plain": [
              "['Sidão', 'Vinicius', 'Rafael', 'Higor', 'Paulo', 'Emanuel']"
            ]
          },
          "metadata": {},
          "execution_count": 43
        }
      ]
    },
    {
      "cell_type": "code",
      "source": [
        "lista_alunos.remove('Vinicius') # para remover da lista\n",
        "lista_alunos"
      ],
      "metadata": {
        "colab": {
          "base_uri": "https://localhost:8080/"
        },
        "id": "JCJmYkqZP8S0",
        "outputId": "ad79852d-2761-45b5-e060-ba8a675648eb"
      },
      "execution_count": 51,
      "outputs": [
        {
          "output_type": "execute_result",
          "data": {
            "text/plain": [
              "['Sidão', 'Rafael', 'Higor', 'Paulo']"
            ]
          },
          "metadata": {},
          "execution_count": 51
        }
      ]
    },
    {
      "cell_type": "code",
      "source": [
        "# del(uninove) # tira da memória essa lista inteira"
      ],
      "metadata": {
        "id": "PuwPGxdEQUg2"
      },
      "execution_count": 52,
      "outputs": []
    },
    {
      "cell_type": "code",
      "source": [
        "uninove = ['Joãzinho', 'Fulano']\n",
        "uninove"
      ],
      "metadata": {
        "colab": {
          "base_uri": "https://localhost:8080/"
        },
        "id": "Df1nhhbMQppL",
        "outputId": "fc707e37-69a8-4370-ed19-f083869f66c5"
      },
      "execution_count": 56,
      "outputs": [
        {
          "output_type": "execute_result",
          "data": {
            "text/plain": [
              "['Joãzinho', 'Fulano']"
            ]
          },
          "metadata": {},
          "execution_count": 56
        }
      ]
    },
    {
      "cell_type": "markdown",
      "source": [
        "## Dicionários (Map)"
      ],
      "metadata": {
        "id": "j6XRF8Y0Lgtq"
      }
    },
    {
      "cell_type": "code",
      "source": [
        "notas = {'Nori' : 9, 'Higor': 9, 'Traue': 6}"
      ],
      "metadata": {
        "id": "Pm8Rm8W6TToH"
      },
      "execution_count": 67,
      "outputs": []
    },
    {
      "cell_type": "code",
      "source": [
        "notas"
      ],
      "metadata": {
        "colab": {
          "base_uri": "https://localhost:8080/"
        },
        "id": "XKdx5IIPTp8v",
        "outputId": "4469e140-0b64-4498-fad0-2321ed7ea391"
      },
      "execution_count": 58,
      "outputs": [
        {
          "output_type": "execute_result",
          "data": {
            "text/plain": [
              "{'Nori': 10, 'Higor': 9, 'Traue': 6}"
            ]
          },
          "metadata": {},
          "execution_count": 58
        }
      ]
    },
    {
      "cell_type": "code",
      "source": [
        "notas['Rafael'] = 7.5"
      ],
      "metadata": {
        "id": "CaKh418STtCI"
      },
      "execution_count": 59,
      "outputs": []
    },
    {
      "cell_type": "code",
      "source": [
        "notas"
      ],
      "metadata": {
        "colab": {
          "base_uri": "https://localhost:8080/"
        },
        "id": "cJyJs7V6T2sI",
        "outputId": "90ed6d5e-f43c-47ac-d650-05d772d630e5"
      },
      "execution_count": 60,
      "outputs": [
        {
          "output_type": "execute_result",
          "data": {
            "text/plain": [
              "{'Nori': 10, 'Higor': 9, 'Traue': 6, 'Rafael': 7.5}"
            ]
          },
          "metadata": {},
          "execution_count": 60
        }
      ]
    },
    {
      "cell_type": "code",
      "source": [
        "notas['Traue'] = 2"
      ],
      "metadata": {
        "id": "NLkD67eBT4HR"
      },
      "execution_count": 61,
      "outputs": []
    },
    {
      "cell_type": "code",
      "source": [
        "notas"
      ],
      "metadata": {
        "colab": {
          "base_uri": "https://localhost:8080/"
        },
        "id": "i-6GR_VuT6kj",
        "outputId": "8dd6ad98-c0ff-45ab-982e-bcc6935b1dd5"
      },
      "execution_count": 62,
      "outputs": [
        {
          "output_type": "execute_result",
          "data": {
            "text/plain": [
              "{'Nori': 10, 'Higor': 9, 'Traue': 2, 'Rafael': 7.5}"
            ]
          },
          "metadata": {},
          "execution_count": 62
        }
      ]
    },
    {
      "cell_type": "code",
      "source": [
        "del(notas)['Traue']"
      ],
      "metadata": {
        "id": "R-UIF0x3UAQF"
      },
      "execution_count": 63,
      "outputs": []
    },
    {
      "cell_type": "code",
      "source": [
        "notas"
      ],
      "metadata": {
        "colab": {
          "base_uri": "https://localhost:8080/"
        },
        "id": "pbSJdDISUF7Y",
        "outputId": "35fc0883-de83-4900-da14-7896e8d3a90b"
      },
      "execution_count": 64,
      "outputs": [
        {
          "output_type": "execute_result",
          "data": {
            "text/plain": [
              "{'Nori': 10, 'Higor': 9, 'Rafael': 7.5}"
            ]
          },
          "metadata": {},
          "execution_count": 64
        }
      ]
    },
    {
      "cell_type": "code",
      "source": [
        "notas.keys()"
      ],
      "metadata": {
        "colab": {
          "base_uri": "https://localhost:8080/"
        },
        "id": "ndzamAxzUOia",
        "outputId": "dd4ba95f-555c-4333-8206-c070812113a1"
      },
      "execution_count": 65,
      "outputs": [
        {
          "output_type": "execute_result",
          "data": {
            "text/plain": [
              "dict_keys(['Nori', 'Higor', 'Rafael'])"
            ]
          },
          "metadata": {},
          "execution_count": 65
        }
      ]
    },
    {
      "cell_type": "code",
      "source": [
        "notas.values()"
      ],
      "metadata": {
        "colab": {
          "base_uri": "https://localhost:8080/"
        },
        "id": "vMjMkOJ4UX0s",
        "outputId": "5ca4226a-dafd-45d3-bf05-1e1023387ea9"
      },
      "execution_count": 68,
      "outputs": [
        {
          "output_type": "execute_result",
          "data": {
            "text/plain": [
              "dict_values([9, 9, 6])"
            ]
          },
          "metadata": {},
          "execution_count": 68
        }
      ]
    },
    {
      "cell_type": "code",
      "source": [
        "# mais um exemplo:\n",
        "\n",
        "estoque = {'Baterias': 8, 'Telas': 10, 'Câmeras' : 9}\n",
        "estoque2 = {'Fones': 2, 'Protetores': 50, 'Baterias': 4}"
      ],
      "metadata": {
        "id": "ghaGPSX9UkjO"
      },
      "execution_count": 75,
      "outputs": []
    },
    {
      "cell_type": "code",
      "source": [
        "estoque.update(estoque2)"
      ],
      "metadata": {
        "id": "reDkGbCzU61x"
      },
      "execution_count": 76,
      "outputs": []
    },
    {
      "cell_type": "code",
      "source": [
        "estoque"
      ],
      "metadata": {
        "colab": {
          "base_uri": "https://localhost:8080/"
        },
        "id": "q0TQdFaPU9sm",
        "outputId": "9e7bdaa2-f0e1-4cba-88be-6e6aa791606b"
      },
      "execution_count": 77,
      "outputs": [
        {
          "output_type": "execute_result",
          "data": {
            "text/plain": [
              "{'Baterias': 4, 'Telas': 10, 'Câmeras': 9, 'Fones': 2, 'Protetores': 50}"
            ]
          },
          "metadata": {},
          "execution_count": 77
        }
      ]
    },
    {
      "cell_type": "code",
      "source": [
        "estoque2"
      ],
      "metadata": {
        "colab": {
          "base_uri": "https://localhost:8080/"
        },
        "id": "02xqkarpU-Y3",
        "outputId": "81c7bfd3-da69-47ac-df71-21aafe3d9f3c"
      },
      "execution_count": 78,
      "outputs": [
        {
          "output_type": "execute_result",
          "data": {
            "text/plain": [
              "{'Fones': 2, 'Protetores': 50, 'Baterias': 4}"
            ]
          },
          "metadata": {},
          "execution_count": 78
        }
      ]
    },
    {
      "cell_type": "code",
      "source": [
        "for aluno, nota in notas.items():\n",
        "  print(f'Nome: {aluno} - Nota: {nota}')"
      ],
      "metadata": {
        "colab": {
          "base_uri": "https://localhost:8080/"
        },
        "id": "iJ_CqYALVQYr",
        "outputId": "fa77343e-aacd-4dad-b095-6e4cfb1eef59"
      },
      "execution_count": 79,
      "outputs": [
        {
          "output_type": "stream",
          "name": "stdout",
          "text": [
            "Nome: Nori - Nota: 9\n",
            "Nome: Higor - Nota: 9\n",
            "Nome: Traue - Nota: 6\n"
          ]
        }
      ]
    },
    {
      "cell_type": "markdown",
      "source": [
        "## Conjuntos (Set)"
      ],
      "metadata": {
        "id": "oYbAezWCLjsB"
      }
    },
    {
      "cell_type": "code",
      "source": [
        "# fica para quinta :D"
      ],
      "metadata": {
        "id": "-k7NE8jAVq9O"
      },
      "execution_count": null,
      "outputs": []
    }
  ]
}