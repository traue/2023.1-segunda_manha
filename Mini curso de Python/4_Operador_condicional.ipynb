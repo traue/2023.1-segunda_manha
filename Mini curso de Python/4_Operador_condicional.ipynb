{
  "nbformat": 4,
  "nbformat_minor": 0,
  "metadata": {
    "colab": {
      "provenance": []
    },
    "kernelspec": {
      "name": "python3",
      "display_name": "Python 3"
    },
    "language_info": {
      "name": "python"
    }
  },
  "cells": [
    {
      "cell_type": "markdown",
      "source": [
        "# Operador Condicional"
      ],
      "metadata": {
        "id": "tNMIAovHW3fD"
      }
    },
    {
      "cell_type": "code",
      "source": [
        "15 > 15"
      ],
      "metadata": {
        "colab": {
          "base_uri": "https://localhost:8080/"
        },
        "id": "Tl8tU0XkW6Xq",
        "outputId": "376440f5-8429-4f84-8d88-71f5ebb2f9eb"
      },
      "execution_count": 9,
      "outputs": [
        {
          "output_type": "execute_result",
          "data": {
            "text/plain": [
              "False"
            ]
          },
          "metadata": {},
          "execution_count": 9
        }
      ]
    },
    {
      "cell_type": "code",
      "source": [
        "if 18 > 3: # Verdadeiro\n",
        "  print('É... 18 é maior que 3!')\n",
        "print('acabei de executar')"
      ],
      "metadata": {
        "colab": {
          "base_uri": "https://localhost:8080/"
        },
        "id": "1JLCEeY_YXS9",
        "outputId": "1af991a9-06bc-465a-a28f-f23bd012b317"
      },
      "execution_count": 10,
      "outputs": [
        {
          "output_type": "stream",
          "name": "stdout",
          "text": [
            "É... 18 é maior que 3!\n",
            "acabei de executar\n"
          ]
        }
      ]
    },
    {
      "cell_type": "code",
      "source": [
        "if (18 > 3):\n",
        "  print('Realmentem 18 é maior que 3!')\n",
        "else:\n",
        "  print('Por algum motivo bizarro, 18 é menor que 3') # neste exemplo isso nunca vai acontecer"
      ],
      "metadata": {
        "colab": {
          "base_uri": "https://localhost:8080/"
        },
        "id": "MvosB41xZP_G",
        "outputId": "db731061-9ec1-43f2-9bed-6deb175edc0f"
      },
      "execution_count": 11,
      "outputs": [
        {
          "output_type": "stream",
          "name": "stdout",
          "text": [
            "Realmentem 18 é maior que 3!\n"
          ]
        }
      ]
    },
    {
      "cell_type": "code",
      "source": [
        "# verificar se um número \"n\" qualquer é igual a 2 ou 5 ou 8\n",
        "n = -1\n",
        "\n",
        "if n == 2:\n",
        "  print('n é igual a 2!')\n",
        "elif n == 5:\n",
        "  print('n é igual a 5')\n",
        "elif n == 8:\n",
        "  print('n é igual a 8')\n",
        "else:\n",
        "  print('n não é igual a 2 ou 5 ou 8')"
      ],
      "metadata": {
        "colab": {
          "base_uri": "https://localhost:8080/"
        },
        "id": "Vu7zGJYyZlBM",
        "outputId": "8922ef1e-72a5-4c2a-fb16-a0482753adc1"
      },
      "execution_count": 16,
      "outputs": [
        {
          "output_type": "stream",
          "name": "stdout",
          "text": [
            "n não é igual a 2 ou 5 ou 8\n"
          ]
        }
      ]
    },
    {
      "cell_type": "code",
      "source": [
        "x = 7\n",
        "y = 7\n",
        "if (x > 2) or (y % 2 == 0):\n",
        "  print('x é maior que 2 ou y é par')\n",
        "else:\n",
        "  print('uma ou nenhuma das condições foram atendidas')"
      ],
      "metadata": {
        "colab": {
          "base_uri": "https://localhost:8080/"
        },
        "id": "NBByAbp6ad-x",
        "outputId": "3a57f1c6-4b00-4426-a063-5f685358dcfb"
      },
      "execution_count": 22,
      "outputs": [
        {
          "output_type": "stream",
          "name": "stdout",
          "text": [
            "x é maior que 2 ou y é par\n"
          ]
        }
      ]
    },
    {
      "cell_type": "markdown",
      "source": [
        "# Exercícios de Fixação"
      ],
      "metadata": {
        "id": "mvJWLTwZbOIS"
      }
    },
    {
      "cell_type": "markdown",
      "source": [
        "1. Leia a idade do usuário e classifique-o em: (até 10:00)\n",
        "    - Criança – 0 a 12 anos\n",
        "    - Adolescente – 13 a 17 anos\n",
        "    - Adulto – acima de 18 anos\n",
        "    - Se o usuário digitar um número negativo, mostrar a mensagem que a idade é inválida\n",
        "\n",
        "\n",
        "\n",
        "2. Calcular a média de um aluno que cursou a disciplina de IA, a partir da leitura das notas N1, N2 e N3; passando por um cálculo da média aritmética. Após a média calculada, devemos anunciar se o aluno foi aprovado, reprovado ou dependência (DP)\n",
        "    - Se a média estiver entre 0.0 e 4.0, o aluno está reprovado\n",
        "    - Se a média estiver entre 4.1 e 6.0, o aluno pegou DP\n",
        "    - Se a média for maior do que 6.0, o aluno está aprovado\n",
        "    - Se o aluno pegou DP, deve ser lida a nota da nova prova. Se a nota do exame for maior do que 6.0, está aprovado, senão; está reprovado.\n",
        "(até 10:10)"
      ],
      "metadata": {
        "id": "ap5dK7ktbXXA"
      }
    },
    {
      "cell_type": "markdown",
      "source": [
        "## Resolução do Ex1"
      ],
      "metadata": {
        "id": "9aijgQJoe5XX"
      }
    },
    {
      "cell_type": "code",
      "source": [
        "#leitura da idade\n",
        "idade = int(input('Informe a idade: '))"
      ],
      "metadata": {
        "colab": {
          "base_uri": "https://localhost:8080/"
        },
        "id": "fjYrgMSle7CI",
        "outputId": "8807fcd6-f930-4bd4-c87b-88824421f147"
      },
      "execution_count": 28,
      "outputs": [
        {
          "name": "stdout",
          "output_type": "stream",
          "text": [
            "Informe a idade: 30\n"
          ]
        }
      ]
    },
    {
      "cell_type": "code",
      "source": [
        "if idade >= 0 and idade <= 12:\n",
        "  print('Criança')\n",
        "elif idade > 12 and idade <= 18:\n",
        "  print('Adolescente')\n",
        "elif idade > 18:\n",
        "  print('Adulto')\n",
        "else:\n",
        "  print('Idade inváldia')"
      ],
      "metadata": {
        "colab": {
          "base_uri": "https://localhost:8080/"
        },
        "id": "gfid3Ps8fDWc",
        "outputId": "96add222-f782-47f8-9f09-0218857d867c"
      },
      "execution_count": 30,
      "outputs": [
        {
          "output_type": "stream",
          "name": "stdout",
          "text": [
            "Adulto\n"
          ]
        }
      ]
    },
    {
      "cell_type": "code",
      "source": [
        "# versão do Vinicius:\n",
        "idade = int(input('Qual sua idade? '))\n",
        "\n",
        "if(idade <= 12):\n",
        "    print('Você é uma criança')\n",
        "elif(idade >12 and idade <=17):\n",
        "    print('Você é um adolescente')\n",
        "elif(idade >= 18):\n",
        "    print('Você é um adulto')\n",
        "else:\n",
        "    print('Idade Inválida')"
      ],
      "metadata": {
        "colab": {
          "base_uri": "https://localhost:8080/"
        },
        "id": "6OkhJBsfgBaT",
        "outputId": "e0174ee7-8cef-4438-af17-ac267ddca04c"
      },
      "execution_count": 32,
      "outputs": [
        {
          "output_type": "stream",
          "name": "stdout",
          "text": [
            "Qual sua idade? 2\n",
            "Você é uma criança\n"
          ]
        }
      ]
    },
    {
      "cell_type": "code",
      "source": [
        "# versão do Gustavo:\n",
        "idade = int(input(\"Informe a sua idade: \"))\n",
        " \n",
        "if 0 <= idade <= 12:\n",
        "  print(\"Criança\")\n",
        "elif 12 < idade <= 17:\n",
        "  print(\"Adolescente\")\n",
        "elif idade >= 18:\n",
        "  print(\"Adulto\")\n",
        "else:\n",
        "  print(\"Idade inválida\")"
      ],
      "metadata": {
        "colab": {
          "base_uri": "https://localhost:8080/"
        },
        "id": "DDJ0hWrwgJye",
        "outputId": "75e88ad8-3562-4c67-c819-883061459d9a"
      },
      "execution_count": 33,
      "outputs": [
        {
          "output_type": "stream",
          "name": "stdout",
          "text": [
            "Informe a sua idade: 15\n",
            "Adolescente\n"
          ]
        }
      ]
    },
    {
      "cell_type": "code",
      "source": [
        "# Versão do Andrew\n",
        "idade = int(input('Digite a idade: '))\n",
        "\n",
        "if idade < 0:\n",
        "    print('Idade inválida')\n",
        "elif idade <= 12:\n",
        "    print('Criança')\n",
        "elif idade <= 17:\n",
        "    print('Adolescente')\n",
        "elif idade <= 90:\n",
        "    print('Adulto')\n",
        "else:\n",
        "    print('Dinossauro')\n",
        "\n"
      ],
      "metadata": {
        "colab": {
          "base_uri": "https://localhost:8080/"
        },
        "id": "Qoey_qx4gSef",
        "outputId": "463b92aa-cfc9-4d27-cfc2-c69ba11c3e70"
      },
      "execution_count": 38,
      "outputs": [
        {
          "output_type": "stream",
          "name": "stdout",
          "text": [
            "Digite a idade: 100\n",
            "Dinossauro\n"
          ]
        }
      ]
    },
    {
      "cell_type": "code",
      "source": [
        "#versão do Matheus\n",
        "idade = int(input(\"Qual a sua idade?:\"))\n",
        "if idade<=12:\n",
        "  print(\"De acordo com sua idade você é criança\")\n",
        "elif idade>=13 and idade<=17:\n",
        "  print(\"De acordo com sua idade você é adolescente\")\n",
        "elif idade>=18:\n",
        "  print(\"De acordo com sua idade você é adulto\")\n",
        "else:\n",
        "  print(\"programa finalizado\")\n"
      ],
      "metadata": {
        "colab": {
          "base_uri": "https://localhost:8080/"
        },
        "id": "KN4P-CE3gybB",
        "outputId": "6b45e288-627a-4681-8c69-4da7dce17e75"
      },
      "execution_count": 39,
      "outputs": [
        {
          "output_type": "stream",
          "name": "stdout",
          "text": [
            "Qual a sua idade?:90\n",
            "De acordo com sua idade você é adulto\n"
          ]
        }
      ]
    },
    {
      "cell_type": "code",
      "source": [
        "#versão do Gustavo:\n",
        "\n",
        "Idade = int(input(\"Por favor, digite sua idade: \"))\n",
        "\n",
        "if (Idade >= 0 and Idade <= 12):\n",
        "  print(\"você ainda é uma criança\")\n",
        "elif (Idade > 12 and Idade <= 17):\n",
        "  print(\"você se classifica como adolescente\")\n",
        "elif (Idade >= 18 and Idade < 200):\n",
        "  print(\"você já é adulto\")\n",
        "elif(Idade < 0 or Idade >= 200):\n",
        "  print(\"idade invalida\")"
      ],
      "metadata": {
        "colab": {
          "base_uri": "https://localhost:8080/"
        },
        "id": "AmA9oEX4g8R_",
        "outputId": "7ef40b84-1f5c-447a-9818-3105379cb3fc"
      },
      "execution_count": 40,
      "outputs": [
        {
          "output_type": "stream",
          "name": "stdout",
          "text": [
            "Por favor, digite sua idade: 13\n",
            "você se classifica como adolescente\n"
          ]
        }
      ]
    },
    {
      "cell_type": "code",
      "source": [
        "#versão do Walison\n",
        "\n",
        "idade = int(input('Digite sua idade: '))\n",
        "\n",
        "if idade < 0:\n",
        " print(f'Idade inválida!')\n",
        "elif idade <= 12:\n",
        "  print(f'Você é uma Criança.')\n",
        "elif idade <= 17:\n",
        "  print(f'Você é um Adolescente.')\n",
        "else:\n",
        "  print(f'Você é um Adulto.')\n"
      ],
      "metadata": {
        "colab": {
          "base_uri": "https://localhost:8080/"
        },
        "id": "C7ZFnoKZhIEL",
        "outputId": "3da3de74-4a4e-4108-80aa-a8d886f13d83"
      },
      "execution_count": 41,
      "outputs": [
        {
          "output_type": "stream",
          "name": "stdout",
          "text": [
            "Digite sua idade: 36\n",
            "Você é um Adulto.\n"
          ]
        }
      ]
    },
    {
      "cell_type": "code",
      "source": [
        "# versão do Sidão\n",
        "idade = int(input('Informe a Idade da Criança: '))\n",
        "idade = int(input('Informe a idade do Adolecente: '))\n",
        "idade = int(input('Informe a idade de um Adulto: '))\n",
        "idade = int(input('Informe a idade do Idoso:'))\n",
        "idade = int(input('Informe a idade de Jesus Cristos'))\n",
        "if idade >= 0 & idade <= 12:\n",
        "  print('Criança')\n",
        "elif idade >= 12:\n",
        "  print('Adolecente')\n",
        "elif idade >= 18:\n",
        "  print('Adulto')\n",
        "elif idade >= 90:\n",
        "  print('Idoso')\n",
        "elif idade >= 1500:\n",
        "  print('Jesus Cristo')\n"
      ],
      "metadata": {
        "colab": {
          "base_uri": "https://localhost:8080/"
        },
        "id": "lN8Vd1zMilid",
        "outputId": "44906be3-2a66-4ffb-f0dc-7d524d286f4d"
      },
      "execution_count": 42,
      "outputs": [
        {
          "output_type": "stream",
          "name": "stdout",
          "text": [
            "Informe a Idade da Criança: 21\n",
            "Informe a idade do Adolecente: 32\n",
            "Informe a idade de um Adulto: 2\n",
            "Informe a idade do Idoso:1900\n",
            "Informe a idade de Jesus Cristos3000\n",
            "Criança\n"
          ]
        }
      ]
    },
    {
      "cell_type": "markdown",
      "source": [
        "## Resolução do Ex2"
      ],
      "metadata": {
        "id": "p8aBP3pBhaym"
      }
    },
    {
      "cell_type": "code",
      "source": [
        "#leitura das notas\n",
        "\n",
        "n1 = float(input('Informe a nota 1: '))\n",
        "n2 = float(input('Informe a nota 2: '))\n",
        "n3 = float(input('Informe a nota 3: '))"
      ],
      "metadata": {
        "colab": {
          "base_uri": "https://localhost:8080/"
        },
        "id": "jIldWsB3hiO8",
        "outputId": "70e1869e-69ed-4191-fa30-454ced6c5d76"
      },
      "execution_count": 53,
      "outputs": [
        {
          "name": "stdout",
          "output_type": "stream",
          "text": [
            "Informe a nota 1: 9\n",
            "Informe a nota 2: 10\n",
            "Informe a nota 3: 3\n"
          ]
        }
      ]
    },
    {
      "cell_type": "code",
      "source": [
        "# cálculo da média\n",
        "media = (n1 + n2 + n3) / 3\n",
        "print(f'A média é: {media}')"
      ],
      "metadata": {
        "colab": {
          "base_uri": "https://localhost:8080/"
        },
        "id": "npfwhhfZiE0d",
        "outputId": "00633e58-7c89-4ac1-8a3b-ae990b0e86d6"
      },
      "execution_count": 54,
      "outputs": [
        {
          "output_type": "stream",
          "name": "stdout",
          "text": [
            "A média é: 7.333333333333333\n"
          ]
        }
      ]
    },
    {
      "cell_type": "code",
      "source": [
        "# verificação\n",
        "if media >= 0 and media <= 4:\n",
        "  print('Aluno reprovado')\n",
        "elif media > 4 and media <= 6:\n",
        "  dp = float(input('Digite a nota da DP: '))\n",
        "  if dp >= 6:\n",
        "    print('Aluno aprovado por DP')\n",
        "  else:\n",
        "    print('Aluno reprovado na DP')\n",
        "else:\n",
        "  print('Aluno aprovado')"
      ],
      "metadata": {
        "colab": {
          "base_uri": "https://localhost:8080/"
        },
        "id": "xf3pSHYGjX1N",
        "outputId": "b6eea45c-ce78-4fdf-a2d6-e712ce8e9f26"
      },
      "execution_count": 55,
      "outputs": [
        {
          "output_type": "stream",
          "name": "stdout",
          "text": [
            "Aluno aprovado\n"
          ]
        }
      ]
    },
    {
      "cell_type": "code",
      "source": [
        "# versão do Walison (mais elegante)\n",
        "\n",
        "m1 = float(input('Digite sua Nota 1: '))\n",
        "m2 = float(input('Digite sua Nota 2: '))\n",
        "m3 = float(input('Digite sua Nota 3: '))\n",
        "\n",
        "media = (m1 + m2 + m3) / 3\n",
        "print(media)\n",
        "\n",
        "if media <= 4.0:\n",
        "   print('Aluno Reprovado!') \n",
        "elif media <= 6.0:\n",
        "   print('Aluno em Exame')\n",
        "   notaExame = float(input('Nota do Exame: '))\n",
        "   if notaExame > 6.0:\n",
        "     print('Aluno Aprovado!')\n",
        "   else:\n",
        "     print('Aluno Reprovado!')\n",
        "else:\n",
        "  print('Aluno Aprovado!')    \n"
      ],
      "metadata": {
        "colab": {
          "base_uri": "https://localhost:8080/"
        },
        "id": "S2cFrd57mG5P",
        "outputId": "183eb97b-153a-4db9-b0c5-ac6bbdfc3e37"
      },
      "execution_count": 63,
      "outputs": [
        {
          "output_type": "stream",
          "name": "stdout",
          "text": [
            "Digite sua Nota 1: 5\n",
            "Digite sua Nota 2: 4\n",
            "Digite sua Nota 3: 7\n",
            "5.333333333333333\n",
            "Aluno em Exame\n",
            "Nota do Exame: 2\n",
            "Aluno Reprovado!\n"
          ]
        }
      ]
    }
  ]
}