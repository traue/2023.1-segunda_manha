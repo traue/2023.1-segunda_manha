{
  "nbformat": 4,
  "nbformat_minor": 0,
  "metadata": {
    "colab": {
      "provenance": []
    },
    "kernelspec": {
      "name": "python3",
      "display_name": "Python 3"
    },
    "language_info": {
      "name": "python"
    }
  },
  "cells": [
    {
      "cell_type": "markdown",
      "source": [
        "# Estruturas de repetição - for"
      ],
      "metadata": {
        "id": "E6DnEnp3nuVn"
      }
    },
    {
      "cell_type": "code",
      "source": [
        "print(1)\n",
        "print(2)\n",
        "print(3)\n",
        "print(4)\n",
        "print(5)\n",
        "print(6)\n",
        "print(7)"
      ],
      "metadata": {
        "colab": {
          "base_uri": "https://localhost:8080/"
        },
        "id": "q2JFO7z2pF16",
        "outputId": "492e920b-a774-4c1f-d25c-9f2b2a0da66d"
      },
      "execution_count": 1,
      "outputs": [
        {
          "output_type": "stream",
          "name": "stdout",
          "text": [
            "1\n",
            "2\n",
            "3\n",
            "4\n",
            "5\n",
            "6\n",
            "7\n"
          ]
        }
      ]
    },
    {
      "cell_type": "code",
      "source": [
        "for i in range(8): # é o mesmo que para i de 0 até 8 - 1\n",
        "  print(i)"
      ],
      "metadata": {
        "colab": {
          "base_uri": "https://localhost:8080/"
        },
        "id": "KZwxC-xzqNr2",
        "outputId": "b8c22114-f2e2-4d6a-ef6a-eae50a9f1388"
      },
      "execution_count": 13,
      "outputs": [
        {
          "output_type": "stream",
          "name": "stdout",
          "text": [
            "0\n",
            "1\n",
            "2\n",
            "3\n",
            "4\n",
            "5\n",
            "6\n",
            "7\n"
          ]
        }
      ]
    },
    {
      "cell_type": "code",
      "source": [
        "for i in range(1, 8): # é o mesmo que para i de \"1\" (limite inferior) até \"n - 1\", portanto 6\n",
        "  print(i)"
      ],
      "metadata": {
        "colab": {
          "base_uri": "https://localhost:8080/"
        },
        "id": "QKYHOrZ5pS8b",
        "outputId": "9309e96a-5dc6-4eea-9064-59dd07f7f02e"
      },
      "execution_count": 12,
      "outputs": [
        {
          "output_type": "stream",
          "name": "stdout",
          "text": [
            "1\n",
            "2\n",
            "3\n",
            "4\n",
            "5\n",
            "6\n",
            "7\n"
          ]
        }
      ]
    },
    {
      "cell_type": "code",
      "source": [
        "# 5 4 3 2 1 -> Como fazer?\n",
        "for i in range(5, 0, -1): #para i de 5 até (0 + 1), i--\n",
        "  print(i)"
      ],
      "metadata": {
        "colab": {
          "base_uri": "https://localhost:8080/"
        },
        "id": "4x95kLFXqa-E",
        "outputId": "680b9bb7-7ba7-474c-fe87-614d646e663c"
      },
      "execution_count": 17,
      "outputs": [
        {
          "output_type": "stream",
          "name": "stdout",
          "text": [
            "5\n",
            "4\n",
            "3\n",
            "2\n",
            "1\n"
          ]
        }
      ]
    },
    {
      "cell_type": "code",
      "source": [
        "# Como somar os 10 primeiros números?\n",
        "# ou seja, 1 + 2 + 3 + ... + 10\n",
        "\n",
        "print(1 + 2 + 3 + 4 + 5 + 6 + 7 + 8 + 9 + 10) #muito contraproducente\n",
        "\n",
        "#alternativa com laço:\n",
        "\n",
        "soma = 0\n",
        "for i in range(11):\n",
        "  soma += i # é o meso que soma = soma + i\n",
        "\n",
        "print(soma) #mesmo resultado! :D\n"
      ],
      "metadata": {
        "colab": {
          "base_uri": "https://localhost:8080/"
        },
        "id": "yTnnQX_Lq9R6",
        "outputId": "87f32ffa-7ec3-444b-de6e-50f49ad47ba3"
      },
      "execution_count": 20,
      "outputs": [
        {
          "output_type": "stream",
          "name": "stdout",
          "text": [
            "55\n",
            "55\n"
          ]
        }
      ]
    },
    {
      "cell_type": "code",
      "source": [
        "palavra = 'Americanas'\n",
        "\n",
        "for letra in palavra:\n",
        "  print(f'Letra: {letra}')"
      ],
      "metadata": {
        "colab": {
          "base_uri": "https://localhost:8080/"
        },
        "id": "I2ecHbiSr2Wy",
        "outputId": "355f43e3-369f-4506-e770-74282ffb5cb8"
      },
      "execution_count": 22,
      "outputs": [
        {
          "output_type": "stream",
          "name": "stdout",
          "text": [
            "Letra: A\n",
            "Letra: m\n",
            "Letra: e\n",
            "Letra: r\n",
            "Letra: i\n",
            "Letra: c\n",
            "Letra: a\n",
            "Letra: n\n",
            "Letra: a\n",
            "Letra: s\n"
          ]
        }
      ]
    },
    {
      "cell_type": "code",
      "source": [
        "# mini desafio: Procurar uma letra específica numa palavra de entrada pelo usuário\n",
        "\n",
        "palavra = input('Informe uma paalvra: ')\n",
        "letra = input('Qual letra você quer buscar? ')\n",
        "\n",
        "for l in palavra:\n",
        "  print(l)\n",
        "  if (l == letra):\n",
        "    print(f'Encontrei a letra buscada aqui: {letra}!')"
      ],
      "metadata": {
        "colab": {
          "base_uri": "https://localhost:8080/"
        },
        "id": "HK1ts8xFs_i6",
        "outputId": "1ba806dc-9fa9-4e41-a95f-80b66791a0df"
      },
      "execution_count": 23,
      "outputs": [
        {
          "output_type": "stream",
          "name": "stdout",
          "text": [
            "Informe uma paalvra: Uninove\n",
            "Qual letra você quer buscar? n\n",
            "U\n",
            "n\n",
            "Encontrei a letra buscada aqui: n!\n",
            "i\n",
            "n\n",
            "Encontrei a letra buscada aqui: n!\n",
            "o\n",
            "v\n",
            "e\n"
          ]
        }
      ]
    },
    {
      "cell_type": "code",
      "source": [
        "# aninhamento de laçaos\n",
        "# e se por algum motivo, preciso de uma lista assim?\n",
        "# 0 \n",
        "#  1\n",
        "#  2\n",
        "#  3\n",
        "# 1\n",
        "#  1\n",
        "#  2\n",
        "#  3\n",
        "# 2\n",
        "#  1\n",
        "#  2\n",
        "#  3\n",
        "# 3\n",
        "#   1\n",
        "#   2\n",
        "#   3\n",
        "# 4\n",
        "#   1\n",
        "#   2\n",
        "#   3\n",
        "\n",
        "for i in range(5):\n",
        "  print(i)\n",
        "  print('------')\n",
        "  for j in range(1, 4):\n",
        "    print(' ', j)\n",
        "  print()"
      ],
      "metadata": {
        "colab": {
          "base_uri": "https://localhost:8080/"
        },
        "id": "ysXh3PhntlS0",
        "outputId": "3f2dd5c0-0914-43aa-c432-b87dc803160e"
      },
      "execution_count": 26,
      "outputs": [
        {
          "output_type": "stream",
          "name": "stdout",
          "text": [
            "0\n",
            "------\n",
            "  1\n",
            "  2\n",
            "  3\n",
            "\n",
            "1\n",
            "------\n",
            "  1\n",
            "  2\n",
            "  3\n",
            "\n",
            "2\n",
            "------\n",
            "  1\n",
            "  2\n",
            "  3\n",
            "\n",
            "3\n",
            "------\n",
            "  1\n",
            "  2\n",
            "  3\n",
            "\n",
            "4\n",
            "------\n",
            "  1\n",
            "  2\n",
            "  3\n",
            "\n"
          ]
        }
      ]
    }
  ]
}