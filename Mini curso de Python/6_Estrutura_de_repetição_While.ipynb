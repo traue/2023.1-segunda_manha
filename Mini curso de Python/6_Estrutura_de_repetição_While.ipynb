{
  "nbformat": 4,
  "nbformat_minor": 0,
  "metadata": {
    "colab": {
      "provenance": []
    },
    "kernelspec": {
      "name": "python3",
      "display_name": "Python 3"
    },
    "language_info": {
      "name": "python"
    }
  },
  "cells": [
    {
      "cell_type": "markdown",
      "source": [
        "# Estruturas de repetição - While"
      ],
      "metadata": {
        "id": "OLDP6R50BHve"
      }
    },
    {
      "cell_type": "code",
      "source": [
        "for i in range (1, 10):\n",
        "  print(i)\n",
        "print('-----')"
      ],
      "metadata": {
        "colab": {
          "base_uri": "https://localhost:8080/"
        },
        "id": "3v1yP-62Ecuf",
        "outputId": "e87562ea-d37d-4cee-ea1c-c061f0ad8378"
      },
      "execution_count": null,
      "outputs": [
        {
          "output_type": "stream",
          "name": "stdout",
          "text": [
            "1\n",
            "2\n",
            "3\n",
            "4\n",
            "5\n",
            "6\n",
            "7\n",
            "8\n",
            "9\n",
            "-----\n"
          ]
        }
      ]
    },
    {
      "cell_type": "code",
      "source": [
        "i = 1\n",
        "while i < 10:\n",
        "  print(i)\n",
        "  i = i + 1 # é o mesmo qe i += 1\n",
        "print('-------')"
      ],
      "metadata": {
        "colab": {
          "base_uri": "https://localhost:8080/"
        },
        "id": "NJa5IXpIBOhm",
        "outputId": "c53eb05c-3240-4a20-8e93-19b2d11ebc7a"
      },
      "execution_count": null,
      "outputs": [
        {
          "output_type": "stream",
          "name": "stdout",
          "text": [
            "1\n",
            "2\n",
            "3\n",
            "4\n",
            "5\n",
            "6\n",
            "7\n",
            "8\n",
            "9\n",
            "-------\n"
          ]
        }
      ]
    },
    {
      "cell_type": "code",
      "source": [
        "i = 10\n",
        "while i > 0:\n",
        "  print(i)\n",
        "  i-=1 # é o mesmo que i = i - 1\n",
        "print('------')"
      ],
      "metadata": {
        "colab": {
          "base_uri": "https://localhost:8080/"
        },
        "id": "JccCJPLcC-BS",
        "outputId": "d2def3ba-d61e-45a2-a917-014e160eff5c"
      },
      "execution_count": null,
      "outputs": [
        {
          "output_type": "stream",
          "name": "stdout",
          "text": [
            "10\n",
            "9\n",
            "8\n",
            "7\n",
            "6\n",
            "5\n",
            "4\n",
            "3\n",
            "2\n",
            "1\n",
            "------\n"
          ]
        }
      ]
    },
    {
      "cell_type": "code",
      "source": [
        "# 1 + 2 + 3 + 4 + 5 + 6 + 7 + 8 + 9 + 10\n",
        "\n",
        "soma = 0\n",
        "i = 1\n",
        "while i <= 10:\n",
        "  soma += i\n",
        "  i += 1\n",
        "print(soma)"
      ],
      "metadata": {
        "colab": {
          "base_uri": "https://localhost:8080/"
        },
        "id": "25PNVr73DULP",
        "outputId": "db7bd047-3a54-4275-9e9b-3cd6184ab94b"
      },
      "execution_count": null,
      "outputs": [
        {
          "output_type": "stream",
          "name": "stdout",
          "text": [
            "55\n"
          ]
        }
      ]
    },
    {
      "cell_type": "code",
      "source": [
        "# Outro exmeplo de uso do while: Permitir entradas em um determinado \"range\"\n",
        "# Permitindo entradas apenas entre 1 e 10:\n",
        "\n",
        "vEntrada = -1\n",
        "while vEntrada < 1 or vEntrada > 10:\n",
        "  vEntrada = int(input('Insira um valor entre 1 e 10: '))\n",
        "print(f'Pronto! Você digitou {vEntrada}')"
      ],
      "metadata": {
        "colab": {
          "base_uri": "https://localhost:8080/"
        },
        "id": "cGF-zo3ADogj",
        "outputId": "15f12777-e9e7-4cfd-cb23-d5f9f49fd983"
      },
      "execution_count": null,
      "outputs": [
        {
          "output_type": "stream",
          "name": "stdout",
          "text": [
            "Insira um valor entre 1 e 10: 0\n",
            "Insira um valor entre 1 e 10: 10\n",
            "Pronto! Você digitou 10\n"
          ]
        }
      ]
    },
    {
      "cell_type": "markdown",
      "source": [
        "## Exercícios de fixação\n",
        "\n",
        "\n",
        "1. Ler 5 notas e informar a média\n",
        "\n",
        "2. Imprimir a tabuada do número 3 (3 x 1 = 1 ; 3 x 2 = 6; ... ; 3 x 10 = 30)"
      ],
      "metadata": {
        "id": "15ZTFKofFlgC"
      }
    },
    {
      "cell_type": "markdown",
      "source": [
        "### Resolução do Ex1"
      ],
      "metadata": {
        "id": "RmE79vlrF7UJ"
      }
    },
    {
      "cell_type": "markdown",
      "source": [
        "#### Usando for:"
      ],
      "metadata": {
        "id": "p6FmcgFOG_2X"
      }
    },
    {
      "cell_type": "code",
      "source": [
        "# inicialização das variáveis necessárias para o problema\n",
        "nota = media = soma = 0\n",
        "print(nota, media, soma) #apenas para mostrar que todas as vars estão = 0"
      ],
      "metadata": {
        "colab": {
          "base_uri": "https://localhost:8080/"
        },
        "id": "f7iBRXUnHEdY",
        "outputId": "320d3b15-2112-4576-f92b-0fee987d7475"
      },
      "execution_count": null,
      "outputs": [
        {
          "output_type": "stream",
          "name": "stdout",
          "text": [
            "0 0 0\n"
          ]
        }
      ]
    },
    {
      "cell_type": "code",
      "source": [
        "# entrada das notas\n",
        "for _ in range(1, 6):\n",
        "  nota = float(input('Informe a nota: '))\n",
        "  soma += nota\n",
        "\n",
        "print(soma) #apenas para validação"
      ],
      "metadata": {
        "colab": {
          "base_uri": "https://localhost:8080/"
        },
        "id": "mShzo0DmHVnU",
        "outputId": "0a470004-6105-4d12-c05e-bd59a4cd0957"
      },
      "execution_count": null,
      "outputs": [
        {
          "output_type": "stream",
          "name": "stdout",
          "text": [
            "Informe a nota: 8\n",
            "Informe a nota: 9\n",
            "Informe a nota: 10\n",
            "Informe a nota: 8.5\n",
            "Informe a nota: 6\n",
            "41.5\n"
          ]
        }
      ]
    },
    {
      "cell_type": "code",
      "source": [
        "#cálculo da média e exibição\n",
        "media = soma / 5 \n",
        "print(f'A média é {media}')"
      ],
      "metadata": {
        "colab": {
          "base_uri": "https://localhost:8080/"
        },
        "id": "ppzFMmjbIO36",
        "outputId": "aaa5fbb5-f633-4f21-e500-169721832314"
      },
      "execution_count": null,
      "outputs": [
        {
          "output_type": "stream",
          "name": "stdout",
          "text": [
            "A média é 8.3\n"
          ]
        }
      ]
    },
    {
      "cell_type": "code",
      "source": [
        "## solução do Higor:\n",
        "\n",
        "import random\n",
        "\n",
        "# lista vazia para armazenar os números aleatórios\n",
        "numeros = []\n",
        "\n",
        "# loop para gerar 5 números aleatórios e adicioná-los à lista\n",
        "for i in range(5):\n",
        "    numero = random.randint(0, 10) # gerar um número aleatório entre 0 e 10\n",
        "    numeros.append(numero)\n",
        "\n",
        "# calculando a média dos números aleatórios\n",
        "media = sum(numeros) / len(numeros)\n",
        "\n",
        "# exibindo a lista de números e a média na tela\n",
        "print(\"Números selecionados: \", numeros)\n",
        "print(\"Média dos números: \", media)\n"
      ],
      "metadata": {
        "colab": {
          "base_uri": "https://localhost:8080/"
        },
        "id": "0AmkLSt-I_Nr",
        "outputId": "452191f5-6542-493f-d92a-eb1ddd9fa6c8"
      },
      "execution_count": null,
      "outputs": [
        {
          "output_type": "stream",
          "name": "stdout",
          "text": [
            "Números selecionados:  [9, 8, 3, 8, 5]\n",
            "Média dos números:  6.6\n"
          ]
        }
      ]
    },
    {
      "cell_type": "code",
      "source": [
        "# Solução do Gustavo\n",
        "\n",
        "notas = [None]*5\n",
        "\n",
        "for i in range(5):\n",
        "  notas[i] = float(input(f\"Informe a {i + 1}º nota: \"))\n",
        "\n",
        "media = sum(notas) / len(notas)\n",
        "\n",
        "print(f\"A média é: {media}\")\n"
      ],
      "metadata": {
        "colab": {
          "base_uri": "https://localhost:8080/"
        },
        "id": "iv3vv_n-JGYi",
        "outputId": "0e8cf315-5a44-4228-c869-4e6d235f593c"
      },
      "execution_count": null,
      "outputs": [
        {
          "output_type": "stream",
          "name": "stdout",
          "text": [
            "Informe a 1º nota: 8\n",
            "Informe a 2º nota: 9\n",
            "Informe a 3º nota: 10\n",
            "Informe a 4º nota: 8.5\n",
            "Informe a 5º nota: 6\n",
            "A média é: 8.3\n"
          ]
        }
      ]
    },
    {
      "cell_type": "markdown",
      "source": [
        "#### Usando While"
      ],
      "metadata": {
        "id": "Jzvmncf9HBgJ"
      }
    },
    {
      "cell_type": "code",
      "source": [
        "nota = soma = 0\n",
        "n = 1\n",
        "while n <= 5:\n",
        "  nota = float(input('Informe a nota: '))\n",
        "  soma += nota\n",
        "  n += 1\n",
        "print(f'A média é: {soma / 5}')"
      ],
      "metadata": {
        "colab": {
          "base_uri": "https://localhost:8080/"
        },
        "id": "Vw6D3eKdIhxj",
        "outputId": "010bb9a1-b64d-4e31-dd3f-cab1c3132b5a"
      },
      "execution_count": null,
      "outputs": [
        {
          "output_type": "stream",
          "name": "stdout",
          "text": [
            "Informe a nota: 8\n",
            "Informe a nota: 9\n",
            "Informe a nota: 10\n",
            "Informe a nota: 8.5\n",
            "Informe a nota: 6\n",
            "A média é: 8.3\n"
          ]
        }
      ]
    },
    {
      "cell_type": "code",
      "source": [
        "## Solução do Paulo:\n",
        "\n",
        "i = 1\n",
        "media = 0.0\n",
        "\n",
        "while i <=5:\n",
        " nota = float(input(f\"Qual a {i} nota? \"))\n",
        " i+=1\n",
        " media = media + nota\n",
        "\n",
        "media = media/5\n",
        "print(f\"{media}\")\n"
      ],
      "metadata": {
        "colab": {
          "base_uri": "https://localhost:8080/"
        },
        "id": "qGmVzZFUJWO2",
        "outputId": "91818adb-15e2-4547-c7b7-a5954657ef40"
      },
      "execution_count": null,
      "outputs": [
        {
          "output_type": "stream",
          "name": "stdout",
          "text": [
            "Qual a 1 nota? 8\n",
            "Qual a 2 nota? 9\n",
            "Qual a 3 nota? 10\n",
            "Qual a 4 nota? 8.5\n",
            "Qual a 5 nota? 6\n",
            "8.3\n"
          ]
        }
      ]
    },
    {
      "cell_type": "markdown",
      "source": [
        "### Resolução do Ex2"
      ],
      "metadata": {
        "id": "o9d-LT65F-8b"
      }
    },
    {
      "cell_type": "code",
      "source": [
        "# Usando for:\n",
        "for i in range(1, 11):\n",
        "  print(f'3 * {i} = {3 * i}')"
      ],
      "metadata": {
        "colab": {
          "base_uri": "https://localhost:8080/"
        },
        "id": "ei62vDSqJ1Kz",
        "outputId": "5ab0f803-f567-4d45-d97c-e4f8afab23b9"
      },
      "execution_count": null,
      "outputs": [
        {
          "output_type": "stream",
          "name": "stdout",
          "text": [
            "3 * 1 = 3\n",
            "3 * 2 = 6\n",
            "3 * 3 = 9\n",
            "3 * 4 = 12\n",
            "3 * 5 = 15\n",
            "3 * 6 = 18\n",
            "3 * 7 = 21\n",
            "3 * 8 = 24\n",
            "3 * 9 = 27\n",
            "3 * 10 = 30\n"
          ]
        }
      ]
    },
    {
      "cell_type": "code",
      "source": [
        "# Usando while:\n",
        "i = 1\n",
        "while i <= 10:\n",
        "  print(f'3 * {i} = {3 * i}')\n",
        "  i += 1"
      ],
      "metadata": {
        "colab": {
          "base_uri": "https://localhost:8080/"
        },
        "id": "870REUjYKKM5",
        "outputId": "2b6f2310-f591-46b9-f977-0ff3efb29b45"
      },
      "execution_count": null,
      "outputs": [
        {
          "output_type": "stream",
          "name": "stdout",
          "text": [
            "3 * 1 = 3\n",
            "3 * 2 = 6\n",
            "3 * 3 = 9\n",
            "3 * 4 = 12\n",
            "3 * 5 = 15\n",
            "3 * 6 = 18\n",
            "3 * 7 = 21\n",
            "3 * 8 = 24\n",
            "3 * 9 = 27\n",
            "3 * 10 = 30\n"
          ]
        }
      ]
    }
  ]
}